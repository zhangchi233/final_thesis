{
 "cells": [
  {
   "cell_type": "code",
   "execution_count": 11,
   "metadata": {},
   "outputs": [
    {
     "data": {
      "text/plain": [
       "CascadeMVSNet(\n",
       "  (feature): FeatureNet(\n",
       "    (conv0): Sequential(\n",
       "      (0): ConvBnReLU(\n",
       "        (conv): Conv2d(3, 8, kernel_size=(3, 3), stride=(1, 1), padding=(1, 1), bias=False)\n",
       "        (bn): ABN(8, eps=1e-05, momentum=0.1, affine=True, activation=leaky_relu[0.01])\n",
       "      )\n",
       "      (1): ConvBnReLU(\n",
       "        (conv): Conv2d(8, 8, kernel_size=(3, 3), stride=(1, 1), padding=(1, 1), bias=False)\n",
       "        (bn): ABN(8, eps=1e-05, momentum=0.1, affine=True, activation=leaky_relu[0.01])\n",
       "      )\n",
       "    )\n",
       "    (conv1): Sequential(\n",
       "      (0): ConvBnReLU(\n",
       "        (conv): Conv2d(8, 16, kernel_size=(5, 5), stride=(2, 2), padding=(2, 2), bias=False)\n",
       "        (bn): ABN(16, eps=1e-05, momentum=0.1, affine=True, activation=leaky_relu[0.01])\n",
       "      )\n",
       "      (1): ConvBnReLU(\n",
       "        (conv): Conv2d(16, 16, kernel_size=(3, 3), stride=(1, 1), padding=(1, 1), bias=False)\n",
       "        (bn): ABN(16, eps=1e-05, momentum=0.1, affine=True, activation=leaky_relu[0.01])\n",
       "      )\n",
       "      (2): ConvBnReLU(\n",
       "        (conv): Conv2d(16, 16, kernel_size=(3, 3), stride=(1, 1), padding=(1, 1), bias=False)\n",
       "        (bn): ABN(16, eps=1e-05, momentum=0.1, affine=True, activation=leaky_relu[0.01])\n",
       "      )\n",
       "    )\n",
       "    (conv2): Sequential(\n",
       "      (0): ConvBnReLU(\n",
       "        (conv): Conv2d(16, 32, kernel_size=(5, 5), stride=(2, 2), padding=(2, 2), bias=False)\n",
       "        (bn): ABN(32, eps=1e-05, momentum=0.1, affine=True, activation=leaky_relu[0.01])\n",
       "      )\n",
       "      (1): ConvBnReLU(\n",
       "        (conv): Conv2d(32, 32, kernel_size=(3, 3), stride=(1, 1), padding=(1, 1), bias=False)\n",
       "        (bn): ABN(32, eps=1e-05, momentum=0.1, affine=True, activation=leaky_relu[0.01])\n",
       "      )\n",
       "      (2): ConvBnReLU(\n",
       "        (conv): Conv2d(32, 32, kernel_size=(3, 3), stride=(1, 1), padding=(1, 1), bias=False)\n",
       "        (bn): ABN(32, eps=1e-05, momentum=0.1, affine=True, activation=leaky_relu[0.01])\n",
       "      )\n",
       "    )\n",
       "    (toplayer): Conv2d(32, 32, kernel_size=(1, 1), stride=(1, 1))\n",
       "    (lat1): Conv2d(16, 32, kernel_size=(1, 1), stride=(1, 1))\n",
       "    (lat0): Conv2d(8, 32, kernel_size=(1, 1), stride=(1, 1))\n",
       "    (smooth1): Conv2d(32, 16, kernel_size=(3, 3), stride=(1, 1), padding=(1, 1))\n",
       "    (smooth0): Conv2d(32, 8, kernel_size=(3, 3), stride=(1, 1), padding=(1, 1))\n",
       "  )\n",
       "  (cost_reg_0): CostRegNet(\n",
       "    (conv0): ConvBnReLU3D(\n",
       "      (conv): Conv3d(8, 8, kernel_size=(3, 3, 3), stride=(1, 1, 1), padding=(1, 1, 1), bias=False)\n",
       "      (bn): ABN(8, eps=1e-05, momentum=0.1, affine=True, activation=leaky_relu[0.01])\n",
       "    )\n",
       "    (conv1): ConvBnReLU3D(\n",
       "      (conv): Conv3d(8, 16, kernel_size=(3, 3, 3), stride=(2, 2, 2), padding=(1, 1, 1), bias=False)\n",
       "      (bn): ABN(16, eps=1e-05, momentum=0.1, affine=True, activation=leaky_relu[0.01])\n",
       "    )\n",
       "    (conv2): ConvBnReLU3D(\n",
       "      (conv): Conv3d(16, 16, kernel_size=(3, 3, 3), stride=(1, 1, 1), padding=(1, 1, 1), bias=False)\n",
       "      (bn): ABN(16, eps=1e-05, momentum=0.1, affine=True, activation=leaky_relu[0.01])\n",
       "    )\n",
       "    (conv3): ConvBnReLU3D(\n",
       "      (conv): Conv3d(16, 32, kernel_size=(3, 3, 3), stride=(2, 2, 2), padding=(1, 1, 1), bias=False)\n",
       "      (bn): ABN(32, eps=1e-05, momentum=0.1, affine=True, activation=leaky_relu[0.01])\n",
       "    )\n",
       "    (conv4): ConvBnReLU3D(\n",
       "      (conv): Conv3d(32, 32, kernel_size=(3, 3, 3), stride=(1, 1, 1), padding=(1, 1, 1), bias=False)\n",
       "      (bn): ABN(32, eps=1e-05, momentum=0.1, affine=True, activation=leaky_relu[0.01])\n",
       "    )\n",
       "    (conv5): ConvBnReLU3D(\n",
       "      (conv): Conv3d(32, 64, kernel_size=(3, 3, 3), stride=(2, 2, 2), padding=(1, 1, 1), bias=False)\n",
       "      (bn): ABN(64, eps=1e-05, momentum=0.1, affine=True, activation=leaky_relu[0.01])\n",
       "    )\n",
       "    (conv6): ConvBnReLU3D(\n",
       "      (conv): Conv3d(64, 64, kernel_size=(3, 3, 3), stride=(1, 1, 1), padding=(1, 1, 1), bias=False)\n",
       "      (bn): ABN(64, eps=1e-05, momentum=0.1, affine=True, activation=leaky_relu[0.01])\n",
       "    )\n",
       "    (conv7): Sequential(\n",
       "      (0): ConvTranspose3d(64, 32, kernel_size=(3, 3, 3), stride=(2, 2, 2), padding=(1, 1, 1), output_padding=(1, 1, 1), bias=False)\n",
       "      (1): ABN(32, eps=1e-05, momentum=0.1, affine=True, activation=leaky_relu[0.01])\n",
       "    )\n",
       "    (conv9): Sequential(\n",
       "      (0): ConvTranspose3d(32, 16, kernel_size=(3, 3, 3), stride=(2, 2, 2), padding=(1, 1, 1), output_padding=(1, 1, 1), bias=False)\n",
       "      (1): ABN(16, eps=1e-05, momentum=0.1, affine=True, activation=leaky_relu[0.01])\n",
       "    )\n",
       "    (conv11): Sequential(\n",
       "      (0): ConvTranspose3d(16, 8, kernel_size=(3, 3, 3), stride=(2, 2, 2), padding=(1, 1, 1), output_padding=(1, 1, 1), bias=False)\n",
       "      (1): ABN(8, eps=1e-05, momentum=0.1, affine=True, activation=leaky_relu[0.01])\n",
       "    )\n",
       "    (prob): Conv3d(8, 1, kernel_size=(3, 3, 3), stride=(1, 1, 1), padding=(1, 1, 1))\n",
       "  )\n",
       "  (cost_reg_1): CostRegNet(\n",
       "    (conv0): ConvBnReLU3D(\n",
       "      (conv): Conv3d(16, 8, kernel_size=(3, 3, 3), stride=(1, 1, 1), padding=(1, 1, 1), bias=False)\n",
       "      (bn): ABN(8, eps=1e-05, momentum=0.1, affine=True, activation=leaky_relu[0.01])\n",
       "    )\n",
       "    (conv1): ConvBnReLU3D(\n",
       "      (conv): Conv3d(8, 16, kernel_size=(3, 3, 3), stride=(2, 2, 2), padding=(1, 1, 1), bias=False)\n",
       "      (bn): ABN(16, eps=1e-05, momentum=0.1, affine=True, activation=leaky_relu[0.01])\n",
       "    )\n",
       "    (conv2): ConvBnReLU3D(\n",
       "      (conv): Conv3d(16, 16, kernel_size=(3, 3, 3), stride=(1, 1, 1), padding=(1, 1, 1), bias=False)\n",
       "      (bn): ABN(16, eps=1e-05, momentum=0.1, affine=True, activation=leaky_relu[0.01])\n",
       "    )\n",
       "    (conv3): ConvBnReLU3D(\n",
       "      (conv): Conv3d(16, 32, kernel_size=(3, 3, 3), stride=(2, 2, 2), padding=(1, 1, 1), bias=False)\n",
       "      (bn): ABN(32, eps=1e-05, momentum=0.1, affine=True, activation=leaky_relu[0.01])\n",
       "    )\n",
       "    (conv4): ConvBnReLU3D(\n",
       "      (conv): Conv3d(32, 32, kernel_size=(3, 3, 3), stride=(1, 1, 1), padding=(1, 1, 1), bias=False)\n",
       "      (bn): ABN(32, eps=1e-05, momentum=0.1, affine=True, activation=leaky_relu[0.01])\n",
       "    )\n",
       "    (conv5): ConvBnReLU3D(\n",
       "      (conv): Conv3d(32, 64, kernel_size=(3, 3, 3), stride=(2, 2, 2), padding=(1, 1, 1), bias=False)\n",
       "      (bn): ABN(64, eps=1e-05, momentum=0.1, affine=True, activation=leaky_relu[0.01])\n",
       "    )\n",
       "    (conv6): ConvBnReLU3D(\n",
       "      (conv): Conv3d(64, 64, kernel_size=(3, 3, 3), stride=(1, 1, 1), padding=(1, 1, 1), bias=False)\n",
       "      (bn): ABN(64, eps=1e-05, momentum=0.1, affine=True, activation=leaky_relu[0.01])\n",
       "    )\n",
       "    (conv7): Sequential(\n",
       "      (0): ConvTranspose3d(64, 32, kernel_size=(3, 3, 3), stride=(2, 2, 2), padding=(1, 1, 1), output_padding=(1, 1, 1), bias=False)\n",
       "      (1): ABN(32, eps=1e-05, momentum=0.1, affine=True, activation=leaky_relu[0.01])\n",
       "    )\n",
       "    (conv9): Sequential(\n",
       "      (0): ConvTranspose3d(32, 16, kernel_size=(3, 3, 3), stride=(2, 2, 2), padding=(1, 1, 1), output_padding=(1, 1, 1), bias=False)\n",
       "      (1): ABN(16, eps=1e-05, momentum=0.1, affine=True, activation=leaky_relu[0.01])\n",
       "    )\n",
       "    (conv11): Sequential(\n",
       "      (0): ConvTranspose3d(16, 8, kernel_size=(3, 3, 3), stride=(2, 2, 2), padding=(1, 1, 1), output_padding=(1, 1, 1), bias=False)\n",
       "      (1): ABN(8, eps=1e-05, momentum=0.1, affine=True, activation=leaky_relu[0.01])\n",
       "    )\n",
       "    (prob): Conv3d(8, 1, kernel_size=(3, 3, 3), stride=(1, 1, 1), padding=(1, 1, 1))\n",
       "  )\n",
       "  (cost_reg_2): CostRegNet(\n",
       "    (conv0): ConvBnReLU3D(\n",
       "      (conv): Conv3d(32, 8, kernel_size=(3, 3, 3), stride=(1, 1, 1), padding=(1, 1, 1), bias=False)\n",
       "      (bn): ABN(8, eps=1e-05, momentum=0.1, affine=True, activation=leaky_relu[0.01])\n",
       "    )\n",
       "    (conv1): ConvBnReLU3D(\n",
       "      (conv): Conv3d(8, 16, kernel_size=(3, 3, 3), stride=(2, 2, 2), padding=(1, 1, 1), bias=False)\n",
       "      (bn): ABN(16, eps=1e-05, momentum=0.1, affine=True, activation=leaky_relu[0.01])\n",
       "    )\n",
       "    (conv2): ConvBnReLU3D(\n",
       "      (conv): Conv3d(16, 16, kernel_size=(3, 3, 3), stride=(1, 1, 1), padding=(1, 1, 1), bias=False)\n",
       "      (bn): ABN(16, eps=1e-05, momentum=0.1, affine=True, activation=leaky_relu[0.01])\n",
       "    )\n",
       "    (conv3): ConvBnReLU3D(\n",
       "      (conv): Conv3d(16, 32, kernel_size=(3, 3, 3), stride=(2, 2, 2), padding=(1, 1, 1), bias=False)\n",
       "      (bn): ABN(32, eps=1e-05, momentum=0.1, affine=True, activation=leaky_relu[0.01])\n",
       "    )\n",
       "    (conv4): ConvBnReLU3D(\n",
       "      (conv): Conv3d(32, 32, kernel_size=(3, 3, 3), stride=(1, 1, 1), padding=(1, 1, 1), bias=False)\n",
       "      (bn): ABN(32, eps=1e-05, momentum=0.1, affine=True, activation=leaky_relu[0.01])\n",
       "    )\n",
       "    (conv5): ConvBnReLU3D(\n",
       "      (conv): Conv3d(32, 64, kernel_size=(3, 3, 3), stride=(2, 2, 2), padding=(1, 1, 1), bias=False)\n",
       "      (bn): ABN(64, eps=1e-05, momentum=0.1, affine=True, activation=leaky_relu[0.01])\n",
       "    )\n",
       "    (conv6): ConvBnReLU3D(\n",
       "      (conv): Conv3d(64, 64, kernel_size=(3, 3, 3), stride=(1, 1, 1), padding=(1, 1, 1), bias=False)\n",
       "      (bn): ABN(64, eps=1e-05, momentum=0.1, affine=True, activation=leaky_relu[0.01])\n",
       "    )\n",
       "    (conv7): Sequential(\n",
       "      (0): ConvTranspose3d(64, 32, kernel_size=(3, 3, 3), stride=(2, 2, 2), padding=(1, 1, 1), output_padding=(1, 1, 1), bias=False)\n",
       "      (1): ABN(32, eps=1e-05, momentum=0.1, affine=True, activation=leaky_relu[0.01])\n",
       "    )\n",
       "    (conv9): Sequential(\n",
       "      (0): ConvTranspose3d(32, 16, kernel_size=(3, 3, 3), stride=(2, 2, 2), padding=(1, 1, 1), output_padding=(1, 1, 1), bias=False)\n",
       "      (1): ABN(16, eps=1e-05, momentum=0.1, affine=True, activation=leaky_relu[0.01])\n",
       "    )\n",
       "    (conv11): Sequential(\n",
       "      (0): ConvTranspose3d(16, 8, kernel_size=(3, 3, 3), stride=(2, 2, 2), padding=(1, 1, 1), output_padding=(1, 1, 1), bias=False)\n",
       "      (1): ABN(8, eps=1e-05, momentum=0.1, affine=True, activation=leaky_relu[0.01])\n",
       "    )\n",
       "    (prob): Conv3d(8, 1, kernel_size=(3, 3, 3), stride=(1, 1, 1), padding=(1, 1, 1))\n",
       "  )\n",
       ")"
      ]
     },
     "execution_count": 11,
     "metadata": {},
     "output_type": "execute_result"
    }
   ],
   "source": [
    "from models.mvsnet import CascadeMVSNet\n",
    "from utils import load_ckpt\n",
    "from inplace_abn import ABN\n",
    "from losses import SL1Loss\n",
    "model = CascadeMVSNet(n_depths=[8,32,48],\n",
    "                      interval_ratios=[1.0,2.0,4.0],\n",
    "                      num_groups=1,\n",
    "                      norm_act=ABN).cuda()\n",
    "load_ckpt(model, 'ckpts/_ckpt_epoch_10.ckpt')\n",
    "model.eval()"
   ]
  },
  {
   "cell_type": "code",
   "execution_count": 12,
   "metadata": {},
   "outputs": [],
   "source": [
    "def abs_error(depth_pred, depth_gt, mask):\n",
    "    depth_pred, depth_gt = depth_pred[mask], depth_gt[mask]\n",
    "    return (depth_pred - depth_gt).abs()\n",
    "\n",
    "def acc_threshold(depth_pred, depth_gt, mask, threshold):\n",
    "    \"\"\"\n",
    "    computes the percentage of pixels whose depth error is less than @threshold\n",
    "    \"\"\"\n",
    "    errors = abs_error(depth_pred, depth_gt, mask)\n",
    "    acc_mask = errors < threshold\n",
    "    return acc_mask.float()"
   ]
  },
  {
   "cell_type": "markdown",
   "metadata": {},
   "source": [
    "# use abs"
   ]
  },
  {
   "cell_type": "code",
   "execution_count": 13,
   "metadata": {},
   "outputs": [],
   "source": [
    "from torch.utils.data import Dataset\n",
    "from datasets.utils import read_pfm\n",
    "import os\n",
    "import numpy as np\n",
    "import cv2\n",
    "from PIL import Image\n",
    "import torch\n",
    "from torchvision import transforms as T\n",
    "\n",
    "class DTUDataset(Dataset):\n",
    "    def __init__(self, root_dir, split,model, n_views=3, levels=3, depth_interval=2.65,\n",
    "                 img_wh=(640,512),abs_error =\"abs\"):\n",
    "        \"\"\"\n",
    "        img_wh should be set to a tuple ex: (1152, 864) to enable test mode!\n",
    "        \"\"\"\n",
    "        self.root_dir = root_dir\n",
    "        self.split = split\n",
    "        assert self.split in ['train', 'val', 'test'], \\\n",
    "            'split must be either \"train\", \"val\" or \"test\"!'\n",
    "        self.img_wh = img_wh\n",
    "        if img_wh is not None:\n",
    "            assert img_wh[0]%32==0 and img_wh[1]%32==0, \\\n",
    "                'img_wh must both be multiples of 32!'\n",
    "        self.build_metas()\n",
    "        self.n_views = n_views\n",
    "        self.levels = levels # FPN levels\n",
    "        self.depth_interval = depth_interval\n",
    "        self.build_proj_mats()\n",
    "        self.define_transforms()\n",
    "        self.model = model.cuda()\n",
    "        self.model.device = \"cuda\"\n",
    "        self.loss = SL1Loss()\n",
    "        \n",
    "        \n",
    "    def build_metas(self):\n",
    "        self.metas = []\n",
    "        with open(f'/root/autodl-tmp/project/dp_simple/CasMVSNet_pl/datasets/lists/dtu/{self.split}.txt') as f:\n",
    "            self.scans = [line.rstrip() for line in f.readlines()]\n",
    "        self.output_pkl = f'/root/autodl-tmp/project/dp_simple/CasMVSNet_pl/datasets/lists/dtu/{self.split}_abs_1.pkl'\n",
    "\n",
    "        # light conditions 0-6 for training\n",
    "        # light condition 3 for testing (the brightest?)\n",
    "        light_idxs = list(range(7))\n",
    "\n",
    "        pair_file = \"Cameras/pair.txt\"\n",
    "        for scan in self.scans:\n",
    "            with open(os.path.join(self.root_dir, pair_file)) as f:\n",
    "                num_viewpoint = int(f.readline())\n",
    "                # viewpoints (49)\n",
    "                for _ in range(num_viewpoint):\n",
    "                    ref_view = int(f.readline().rstrip())\n",
    "                    src_views = [int(x) for x in f.readline().rstrip().split()[1::2]]\n",
    "                    self.metas += [(scan, ref_view, src_views)]\n",
    "\n",
    "                    # for light_idx in light_idxs:\n",
    "                    #     \n",
    "    def build_proj_mats(self):\n",
    "        proj_mats = []\n",
    "        for vid in range(49): # total 49 view ids\n",
    "            if self.img_wh is None:\n",
    "                proj_mat_filename = os.path.join(self.root_dir,\n",
    "                                                 f'Cameras/train/{vid:08d}_cam.txt')\n",
    "            else:\n",
    "                proj_mat_filename = os.path.join(self.root_dir,\n",
    "                                                 f'Cameras/{vid:08d}_cam.txt')\n",
    "            intrinsics, extrinsics, depth_min = \\\n",
    "                self.read_cam_file(proj_mat_filename)\n",
    "            if self.img_wh is not None: # resize the intrinsics to the coarsest level\n",
    "                intrinsics[0] *= self.img_wh[0]/1600/4\n",
    "                intrinsics[1] *= self.img_wh[1]/1200/4\n",
    "\n",
    "            # multiply intrinsics and extrinsics to get projection matrix\n",
    "            proj_mat_ls = []\n",
    "            for l in reversed(range(self.levels)):\n",
    "                proj_mat_l = np.eye(4)\n",
    "                proj_mat_l[:3, :4] = intrinsics @ extrinsics[:3, :4]\n",
    "                intrinsics[:2] *= 2 # 1/4->1/2->1\n",
    "                proj_mat_ls += [torch.FloatTensor(proj_mat_l)]\n",
    "            # (self.levels, 4, 4) from fine to coarse\n",
    "            proj_mat_ls = torch.stack(proj_mat_ls[::-1])\n",
    "           \n",
    "            proj_mats += [(proj_mat_ls, depth_min)]\n",
    "\n",
    "        self.proj_mats = proj_mats\n",
    "\n",
    "    def read_cam_file(self, filename):\n",
    "        with open(filename) as f:\n",
    "            lines = [line.rstrip() for line in f.readlines()]\n",
    "        # extrinsics: line [1,5), 4x4 matrix\n",
    "        extrinsics = np.fromstring(' '.join(lines[1:5]), dtype=np.float32, sep=' ')\n",
    "        extrinsics = extrinsics.reshape((4, 4))\n",
    "        # intrinsics: line [7-10), 3x3 matrix\n",
    "        intrinsics = np.fromstring(' '.join(lines[7:10]), dtype=np.float32, sep=' ')\n",
    "        intrinsics = intrinsics.reshape((3, 3))\n",
    "        # depth_min & depth_interval: line 11\n",
    "        depth_min = float(lines[11].split()[0])\n",
    "        return intrinsics, extrinsics, depth_min\n",
    "\n",
    "    def read_depth(self, filename):\n",
    "        depth = np.array(read_pfm(filename)[0], dtype=np.float32) # (1200, 1600)\n",
    "        if self.img_wh is None:\n",
    "            depth = cv2.resize(depth, None, fx=0.5, fy=0.5,\n",
    "                            interpolation=cv2.INTER_NEAREST) # (600, 800)\n",
    "            depth_0 = depth[44:556, 80:720] # (512, 640)\n",
    "        else:\n",
    "            depth_0 = cv2.resize(depth, self.img_wh,\n",
    "                                 interpolation=cv2.INTER_NEAREST)\n",
    "        depth_1 = cv2.resize(depth_0, None, fx=0.5, fy=0.5,\n",
    "                             interpolation=cv2.INTER_NEAREST)\n",
    "        depth_2 = cv2.resize(depth_1, None, fx=0.5, fy=0.5,\n",
    "                             interpolation=cv2.INTER_NEAREST)\n",
    "\n",
    "        depths = {\"level_0\": torch.FloatTensor(depth_0),\n",
    "                  \"level_1\": torch.FloatTensor(depth_1),\n",
    "                  \"level_2\": torch.FloatTensor(depth_2)}\n",
    "        \n",
    "        return depths\n",
    "\n",
    "    def read_mask(self, filename):\n",
    "        mask = cv2.imread(filename, 0) # (1200, 1600)\n",
    "       \n",
    "        if self.img_wh is None:\n",
    "            mask = cv2.resize(mask, None, fx=0.5, fy=0.5,\n",
    "                            interpolation=cv2.INTER_NEAREST) # (600, 800)\n",
    "            mask_0 = mask[44:556, 80:720] # (512, 640)\n",
    "        else:\n",
    "            mask_0 = cv2.resize(mask, self.img_wh,\n",
    "                                interpolation=cv2.INTER_NEAREST)\n",
    "        mask_1 = cv2.resize(mask_0, None, fx=0.5, fy=0.5,\n",
    "                            interpolation=cv2.INTER_NEAREST)\n",
    "        mask_2 = cv2.resize(mask_1, None, fx=0.5, fy=0.5,\n",
    "                            interpolation=cv2.INTER_NEAREST)\n",
    "\n",
    "        masks = {\"level_0\": torch.BoolTensor(mask_0),\n",
    "                 \"level_1\": torch.BoolTensor(mask_1),\n",
    "                 \"level_2\": torch.BoolTensor(mask_2)}\n",
    "\n",
    "        return masks\n",
    "\n",
    "    def define_transforms(self):\n",
    "        if self.split == 'train': # you can add augmentation here\n",
    "            self.transform = T.Compose([T.ToTensor(),\n",
    "                                        T.Normalize(mean=[0.485, 0.456, 0.406], \n",
    "                                                    std=[0.229, 0.224, 0.225]),\n",
    "                                       ])\n",
    "        else:\n",
    "            self.transform = T.Compose([T.ToTensor(),\n",
    "                                        T.Normalize(mean=[0.485, 0.456, 0.406], \n",
    "                                                    std=[0.229, 0.224, 0.225]),\n",
    "                                       ])\n",
    "        self.unpreprocess = T.Compose([\n",
    "            T.Normalize(mean=[0, 0, 0], std=[1/0.229, 1/0.224, 1/0.225]),\n",
    "            T.Normalize(mean=[-0.485, -0.456, -0.406], std=[1, 1, 1]),\n",
    "        ])\n",
    "    \n",
    "    def decode_batch(self, batch):\n",
    "        imgs = batch['imgs']\n",
    "        proj_mats = batch['proj_mats']\n",
    "        depths = batch['depths']\n",
    "        masks = batch['masks']\n",
    "        init_depth_min = batch['init_depth_min']\n",
    "        depth_interval = batch['depth_interval']\n",
    "        return imgs, proj_mats, depths, masks, init_depth_min, depth_interval\n",
    "\n",
    "    def __len__(self):\n",
    "        return len(self.metas)\n",
    "\n",
    "\n",
    "    def runs(self):\n",
    "        import pickle as pkl\n",
    "        dictionary = {}\n",
    "        from tqdm import tqdm\n",
    "        print(\"length is\",len(self.metas))\n",
    "\n",
    "        for idx in tqdm(range(len(self.metas))):\n",
    "            index = self.runonce(idx,dictionary)\n",
    "            print(index)\n",
    "\n",
    "        with open(self.output_pkl,'wb') as f:\n",
    "            pkl.dump(dictionary,f)\n",
    "\n",
    "\n",
    "    def runonce(self, idx,dictionary):\n",
    "       \n",
    "        scan, ref_view, src_views = self.metas[idx]\n",
    "        # use only the reference view and first nviews-1 source views\n",
    "        view_ids = [ref_view] + src_views[:self.n_views-1]\n",
    "\n",
    "        output_key = f\"{scan}_{ref_view}_{src_views[0]}_{src_views[1]}\"\n",
    "        \n",
    "        losses =[]\n",
    "        for light_idx in range(7):\n",
    "            sample = {}\n",
    "            imgs = []\n",
    "            cams = []\n",
    "            proj_mats = []\n",
    "            \n",
    "            for i, vid in enumerate(view_ids):\n",
    "            # NOTE that the id in image file names is from 1 to 49 (not 0~48)\n",
    "            \n",
    "                img_filename = os.path.join(self.root_dir,\n",
    "                                f'Rectified/{scan}_train/rect_{vid+1:03d}_{light_idx}_r5000.png')\n",
    "                mask_filename = os.path.join(self.root_dir,\n",
    "                                f'Depths/{scan}_train/depth_visual_{vid:04d}.png')\n",
    "                depth_filename = os.path.join(self.root_dir,\n",
    "                                f'Depths/{scan}_train/depth_map_{vid:04d}.pfm')\n",
    "        \n",
    "\n",
    "                img = Image.open(img_filename)\n",
    "                if self.img_wh is not None:\n",
    "                    img = img.resize(self.img_wh, Image.BILINEAR)\n",
    "                img = self.transform(img)\n",
    "                imgs += [img]\n",
    "\n",
    "                proj_mat_ls, depth_min = self.proj_mats[vid]\n",
    "            \n",
    "\n",
    "\n",
    "\n",
    "                if i == 0:  # reference view\n",
    "                    \n",
    "                    sample['init_depth_min'] = torch.FloatTensor([depth_min]).unsqueeze(0).to(self.model.device)\n",
    "                    \n",
    "                    sample['masks'] = self.read_mask(mask_filename)\n",
    "                    for key in sample['masks']:\n",
    "                        sample['masks'][key] = sample['masks'][key].unsqueeze(0).to(self.model.device)\n",
    "                    sample['depths'] = self.read_depth(depth_filename)\n",
    "                    for key in sample['depths']:\n",
    "                        sample['depths'][key] = sample['depths'][key].unsqueeze(0).to(self.model.device)\n",
    "                    sample[\"depth\"] = sample[\"depths\"][\"level_0\"]\n",
    "                    ref_proj_inv = torch.inverse(proj_mat_ls)\n",
    "                else:\n",
    "                    \n",
    "                    proj_mats += [proj_mat_ls @ ref_proj_inv]\n",
    "       \n",
    "        \n",
    "            imgs = torch.stack(imgs) # (V, 3, H, W)\n",
    "            proj_mats = torch.stack(proj_mats)[:,:,:3] # (V-1, self.levels, 3, 4) from fine to coarse\n",
    "            \n",
    "            \n",
    "        \n",
    "            sample['imgs'] = imgs.unsqueeze(0).to(self.model.device)\n",
    "            sample['proj_mats'] = proj_mats.unsqueeze(0).to(self.model.device)\n",
    "            sample['depth_interval'] = torch.FloatTensor([self.depth_interval]).unsqueeze(0).to(self.model.device)\n",
    "            sample['scan_vid'] = (scan, ref_view)\n",
    "\n",
    "            imgs, proj_mats, depths, masks, init_depth_min, depth_interval = self.decode_batch(sample)\n",
    "            with torch.no_grad():\n",
    "                \n",
    "                results = self.model(imgs, proj_mats, init_depth_min, depth_interval)\n",
    "                gt_depths = depths[\"level_0\"]\n",
    "                pred_depths = results[\"depth_0\"]\n",
    "                mask = masks[\"level_0\"]\n",
    "                loss = acc_threshold(gt_depths,pred_depths, mask,2).sum()/mask.float().sum()\n",
    "               \n",
    "                losses.append(loss.item())\n",
    "        # save the minimum loss from list losses\n",
    "        print(losses)\n",
    "        index = np.argmax(np.array(losses))\n",
    "        dictionary[output_key] =  index\n",
    "\n",
    "\n",
    "\n",
    "\n",
    "            \n",
    "\n",
    "        return index"
   ]
  },
  {
   "cell_type": "code",
   "execution_count": 14,
   "metadata": {},
   "outputs": [
    {
     "name": "stdout",
     "output_type": "stream",
     "text": [
      "length is 882\n"
     ]
    },
    {
     "name": "stderr",
     "output_type": "stream",
     "text": [
      "  0%|          | 0/882 [00:00<?, ?it/s]"
     ]
    },
    {
     "name": "stderr",
     "output_type": "stream",
     "text": [
      "/tmp/ipykernel_27549/2295224451.py:211: DeprecationWarning: BILINEAR is deprecated and will be removed in Pillow 10 (2023-07-01). Use Resampling.BILINEAR instead.\n",
      "  img = img.resize(self.img_wh, Image.BILINEAR)\n",
      "  0%|          | 1/882 [00:03<58:25,  3.98s/it]"
     ]
    },
    {
     "name": "stdout",
     "output_type": "stream",
     "text": [
      "[0.09700404107570648, 0.09698066115379333, 0.11027733981609344, 0.11244670301675797, 0.12284934520721436, 0.11552775651216507, 0.11894542723894119]\n",
      "4\n"
     ]
    },
    {
     "name": "stderr",
     "output_type": "stream",
     "text": [
      "  0%|          | 2/882 [00:07<57:32,  3.92s/it]"
     ]
    },
    {
     "name": "stdout",
     "output_type": "stream",
     "text": [
      "[0.09763969480991364, 0.09297369420528412, 0.09682467579841614, 0.09697137773036957, 0.0973299890756607, 0.10098128765821457, 0.09614412486553192]\n",
      "5\n"
     ]
    },
    {
     "name": "stderr",
     "output_type": "stream",
     "text": [
      "  0%|          | 3/882 [00:11<58:04,  3.96s/it]"
     ]
    },
    {
     "name": "stdout",
     "output_type": "stream",
     "text": [
      "[0.09755922853946686, 0.1012968122959137, 0.1009027510881424, 0.10337059199810028, 0.10151174664497375, 0.09853044152259827, 0.09686663746833801]\n",
      "3\n"
     ]
    },
    {
     "name": "stderr",
     "output_type": "stream",
     "text": [
      "  0%|          | 4/882 [00:15<56:40,  3.87s/it]"
     ]
    },
    {
     "name": "stdout",
     "output_type": "stream",
     "text": [
      "[0.06766051054000854, 0.07756612449884415, 0.05983623489737511, 0.06269700080156326, 0.062440045177936554, 0.06249571591615677, 0.06238865107297897]\n",
      "1\n"
     ]
    },
    {
     "name": "stderr",
     "output_type": "stream",
     "text": [
      "  1%|          | 5/882 [00:19<55:58,  3.83s/it]"
     ]
    },
    {
     "name": "stdout",
     "output_type": "stream",
     "text": [
      "[0.044913966208696365, 0.03872060030698776, 0.0385458841919899, 0.03661196306347847, 0.037895217537879944, 0.037449393421411514, 0.038750723004341125]\n",
      "0\n"
     ]
    },
    {
     "name": "stderr",
     "output_type": "stream",
     "text": [
      "  1%|          | 6/882 [00:23<56:43,  3.89s/it]"
     ]
    },
    {
     "name": "stdout",
     "output_type": "stream",
     "text": [
      "[0.06165994703769684, 0.06119191646575928, 0.06663426756858826, 0.06400609761476517, 0.06855438649654388, 0.06089789792895317, 0.06517016887664795]\n",
      "4\n"
     ]
    },
    {
     "name": "stderr",
     "output_type": "stream",
     "text": [
      "  1%|          | 7/882 [00:27<57:03,  3.91s/it]"
     ]
    },
    {
     "name": "stdout",
     "output_type": "stream",
     "text": [
      "[0.0661688819527626, 0.07268393039703369, 0.06960207223892212, 0.07975487411022186, 0.08301462233066559, 0.07634837180376053, 0.08116461336612701]\n",
      "4\n"
     ]
    },
    {
     "name": "stderr",
     "output_type": "stream",
     "text": [
      "  1%|          | 8/882 [00:31<56:55,  3.91s/it]"
     ]
    },
    {
     "name": "stdout",
     "output_type": "stream",
     "text": [
      "[0.0890619307756424, 0.08854483813047409, 0.087449811398983, 0.09175766259431839, 0.09494008123874664, 0.09300097078084946, 0.09649135917425156]\n",
      "6\n"
     ]
    },
    {
     "name": "stderr",
     "output_type": "stream",
     "text": [
      "  1%|          | 9/882 [00:34<55:44,  3.83s/it]"
     ]
    },
    {
     "name": "stdout",
     "output_type": "stream",
     "text": [
      "[0.1449793577194214, 0.15407052636146545, 0.1488734781742096, 0.15245652198791504, 0.15509164333343506, 0.1529981791973114, 0.15409249067306519]\n",
      "4\n"
     ]
    },
    {
     "name": "stderr",
     "output_type": "stream",
     "text": [
      "  1%|          | 10/882 [00:38<56:17,  3.87s/it]"
     ]
    },
    {
     "name": "stdout",
     "output_type": "stream",
     "text": [
      "[0.13523617386817932, 0.1331627368927002, 0.13688182830810547, 0.1358450949192047, 0.13332459330558777, 0.12494989484548569, 0.1309659630060196]\n",
      "2\n"
     ]
    },
    {
     "name": "stderr",
     "output_type": "stream",
     "text": [
      "  1%|          | 11/882 [00:42<56:30,  3.89s/it]"
     ]
    },
    {
     "name": "stdout",
     "output_type": "stream",
     "text": [
      "[0.10357716679573059, 0.10267684608697891, 0.09573151171207428, 0.09729501605033875, 0.09524115920066833, 0.10108520835638046, 0.10023311525583267]\n",
      "0\n"
     ]
    },
    {
     "name": "stderr",
     "output_type": "stream",
     "text": [
      "  1%|▏         | 12/882 [00:46<56:24,  3.89s/it]"
     ]
    },
    {
     "name": "stdout",
     "output_type": "stream",
     "text": [
      "[0.10126300156116486, 0.10030824691057205, 0.09686659276485443, 0.09369771927595139, 0.08810103684663773, 0.09282024949789047, 0.09100167453289032]\n",
      "0\n"
     ]
    },
    {
     "name": "stderr",
     "output_type": "stream",
     "text": [
      "  1%|▏         | 13/882 [00:50<56:14,  3.88s/it]"
     ]
    },
    {
     "name": "stdout",
     "output_type": "stream",
     "text": [
      "[0.11650003492832184, 0.11149696260690689, 0.10769721865653992, 0.11018865555524826, 0.11114566028118134, 0.11307581514120102, 0.11405301094055176]\n",
      "0\n"
     ]
    },
    {
     "name": "stderr",
     "output_type": "stream",
     "text": [
      "  2%|▏         | 14/882 [00:54<57:58,  4.01s/it]"
     ]
    },
    {
     "name": "stdout",
     "output_type": "stream",
     "text": [
      "[0.15297670662403107, 0.15009911358356476, 0.14649926126003265, 0.14016781747341156, 0.1425190567970276, 0.14340654015541077, 0.14211949706077576]\n",
      "0\n"
     ]
    },
    {
     "name": "stderr",
     "output_type": "stream",
     "text": [
      "  2%|▏         | 15/882 [00:58<57:58,  4.01s/it]"
     ]
    },
    {
     "name": "stdout",
     "output_type": "stream",
     "text": [
      "[0.23690734803676605, 0.2489401251077652, 0.2467653453350067, 0.24651962518692017, 0.24420548975467682, 0.24864305555820465, 0.2446529120206833]\n",
      "1\n"
     ]
    },
    {
     "name": "stderr",
     "output_type": "stream",
     "text": [
      "  2%|▏         | 16/882 [01:02<56:55,  3.94s/it]"
     ]
    },
    {
     "name": "stdout",
     "output_type": "stream",
     "text": [
      "[0.1958746761083603, 0.19974465668201447, 0.20227991044521332, 0.201815664768219, 0.19536328315734863, 0.19731096923351288, 0.18710465729236603]\n",
      "2\n"
     ]
    },
    {
     "name": "stderr",
     "output_type": "stream",
     "text": [
      "  2%|▏         | 17/882 [01:06<56:47,  3.94s/it]"
     ]
    },
    {
     "name": "stdout",
     "output_type": "stream",
     "text": [
      "[0.11451813578605652, 0.1344146877527237, 0.14525353908538818, 0.1466549187898636, 0.1465979516506195, 0.14859558641910553, 0.1392226666212082]\n",
      "5\n"
     ]
    },
    {
     "name": "stderr",
     "output_type": "stream",
     "text": [
      "  2%|▏         | 18/882 [01:10<56:02,  3.89s/it]"
     ]
    },
    {
     "name": "stdout",
     "output_type": "stream",
     "text": [
      "[0.09088635444641113, 0.09657973051071167, 0.09297632426023483, 0.09158583730459213, 0.09312046319246292, 0.09233619272708893, 0.09203096479177475]\n",
      "1\n"
     ]
    },
    {
     "name": "stderr",
     "output_type": "stream",
     "text": [
      "  2%|▏         | 19/882 [01:14<55:26,  3.85s/it]"
     ]
    },
    {
     "name": "stdout",
     "output_type": "stream",
     "text": [
      "[0.06958569586277008, 0.07941709458827972, 0.07154468446969986, 0.06490184366703033, 0.06503209471702576, 0.06713175028562546, 0.06370873749256134]\n",
      "1\n"
     ]
    },
    {
     "name": "stderr",
     "output_type": "stream",
     "text": [
      "  2%|▏         | 20/882 [01:18<55:29,  3.86s/it]"
     ]
    },
    {
     "name": "stdout",
     "output_type": "stream",
     "text": [
      "[0.05777452886104584, 0.05538053810596466, 0.046017102897167206, 0.047042205929756165, 0.047561004757881165, 0.0480923093855381, 0.04681093245744705]\n",
      "0\n"
     ]
    },
    {
     "name": "stderr",
     "output_type": "stream",
     "text": [
      "  2%|▏         | 21/882 [01:22<56:06,  3.91s/it]"
     ]
    },
    {
     "name": "stdout",
     "output_type": "stream",
     "text": [
      "[0.05735943466424942, 0.0546971820294857, 0.05133306235074997, 0.05292557179927826, 0.05385009944438934, 0.05326440557837486, 0.05238344147801399]\n",
      "0\n"
     ]
    },
    {
     "name": "stderr",
     "output_type": "stream",
     "text": [
      "  2%|▏         | 22/882 [01:25<55:26,  3.87s/it]"
     ]
    },
    {
     "name": "stdout",
     "output_type": "stream",
     "text": [
      "[0.10055118054151535, 0.09187153726816177, 0.09613514691591263, 0.09971493482589722, 0.0997643694281578, 0.09816602617502213, 0.0932597890496254]\n",
      "0\n"
     ]
    },
    {
     "name": "stderr",
     "output_type": "stream",
     "text": [
      "  3%|▎         | 23/882 [01:29<55:21,  3.87s/it]"
     ]
    },
    {
     "name": "stdout",
     "output_type": "stream",
     "text": [
      "[0.1560920625925064, 0.15229403972625732, 0.16168636083602905, 0.16133242845535278, 0.1655604988336563, 0.1695297807455063, 0.16862022876739502]\n",
      "5\n"
     ]
    },
    {
     "name": "stderr",
     "output_type": "stream",
     "text": [
      "  3%|▎         | 24/882 [01:33<55:34,  3.89s/it]"
     ]
    },
    {
     "name": "stdout",
     "output_type": "stream",
     "text": [
      "[0.19516807794570923, 0.205820232629776, 0.21031290292739868, 0.21925777196884155, 0.22092090547084808, 0.2212226241827011, 0.21432724595069885]\n",
      "5\n"
     ]
    },
    {
     "name": "stderr",
     "output_type": "stream",
     "text": [
      "  3%|▎         | 25/882 [01:37<55:20,  3.88s/it]"
     ]
    },
    {
     "name": "stdout",
     "output_type": "stream",
     "text": [
      "[0.288487046957016, 0.30221760272979736, 0.30712732672691345, 0.31431519985198975, 0.3108014464378357, 0.315674751996994, 0.3127988874912262]\n",
      "5\n"
     ]
    },
    {
     "name": "stderr",
     "output_type": "stream",
     "text": [
      "  3%|▎         | 26/882 [01:41<55:37,  3.90s/it]"
     ]
    },
    {
     "name": "stdout",
     "output_type": "stream",
     "text": [
      "[0.2250397652387619, 0.22786857187747955, 0.22370415925979614, 0.22116048634052277, 0.22225598990917206, 0.22023005783557892, 0.21962977945804596]\n",
      "1\n"
     ]
    },
    {
     "name": "stderr",
     "output_type": "stream",
     "text": [
      "  3%|▎         | 27/882 [01:44<52:59,  3.72s/it]"
     ]
    },
    {
     "name": "stdout",
     "output_type": "stream",
     "text": [
      "[0.11623027175664902, 0.11570564657449722, 0.1210927739739418, 0.12294459342956543, 0.12366104871034622, 0.12282714247703552, 0.1158779114484787]\n",
      "4\n"
     ]
    },
    {
     "name": "stderr",
     "output_type": "stream",
     "text": [
      "  3%|▎         | 28/882 [01:48<52:39,  3.70s/it]"
     ]
    },
    {
     "name": "stdout",
     "output_type": "stream",
     "text": [
      "[0.08494172990322113, 0.0882316455245018, 0.0868329107761383, 0.08786747604608536, 0.08807852864265442, 0.08658047765493393, 0.08738744258880615]\n",
      "1\n"
     ]
    },
    {
     "name": "stderr",
     "output_type": "stream",
     "text": [
      "  3%|▎         | 29/882 [01:52<53:44,  3.78s/it]"
     ]
    },
    {
     "name": "stdout",
     "output_type": "stream",
     "text": [
      "[0.0848257839679718, 0.08473670482635498, 0.08117358386516571, 0.08372402936220169, 0.08315674215555191, 0.08310516923666, 0.08077038824558258]\n",
      "0\n"
     ]
    },
    {
     "name": "stderr",
     "output_type": "stream",
     "text": [
      "  3%|▎         | 30/882 [01:56<53:29,  3.77s/it]"
     ]
    },
    {
     "name": "stdout",
     "output_type": "stream",
     "text": [
      "[0.09436348080635071, 0.09054069966077805, 0.09239783883094788, 0.09316990524530411, 0.0936957448720932, 0.09321163594722748, 0.09649606049060822]\n",
      "6\n"
     ]
    },
    {
     "name": "stderr",
     "output_type": "stream",
     "text": [
      "  4%|▎         | 31/882 [02:00<54:39,  3.85s/it]"
     ]
    },
    {
     "name": "stdout",
     "output_type": "stream",
     "text": [
      "[0.08679546415805817, 0.08234866708517075, 0.07811512798070908, 0.082135409116745, 0.08128238469362259, 0.0816694051027298, 0.08248294144868851]\n",
      "0\n"
     ]
    },
    {
     "name": "stderr",
     "output_type": "stream",
     "text": [
      "  4%|▎         | 32/882 [02:03<53:35,  3.78s/it]"
     ]
    },
    {
     "name": "stdout",
     "output_type": "stream",
     "text": [
      "[0.12571817636489868, 0.12622089684009552, 0.12201012670993805, 0.12545357644557953, 0.12293241918087006, 0.126035675406456, 0.12449350208044052]\n",
      "1\n"
     ]
    },
    {
     "name": "stderr",
     "output_type": "stream",
     "text": [
      "  4%|▎         | 33/882 [02:07<53:30,  3.78s/it]"
     ]
    },
    {
     "name": "stdout",
     "output_type": "stream",
     "text": [
      "[0.2296777367591858, 0.24621538817882538, 0.24698570370674133, 0.2506623864173889, 0.25139549374580383, 0.24819143116474152, 0.2475699633359909]\n",
      "4\n"
     ]
    },
    {
     "name": "stderr",
     "output_type": "stream",
     "text": [
      "  4%|▍         | 34/882 [02:11<54:29,  3.86s/it]"
     ]
    },
    {
     "name": "stdout",
     "output_type": "stream",
     "text": [
      "[0.32232850790023804, 0.3313460946083069, 0.3352467119693756, 0.33437949419021606, 0.34761306643486023, 0.3355395495891571, 0.33653441071510315]\n",
      "4\n"
     ]
    },
    {
     "name": "stderr",
     "output_type": "stream",
     "text": [
      "  4%|▍         | 35/882 [02:15<54:23,  3.85s/it]"
     ]
    },
    {
     "name": "stdout",
     "output_type": "stream",
     "text": [
      "[0.10887554287910461, 0.10923216491937637, 0.11046306788921356, 0.10997607558965683, 0.1121387779712677, 0.11215028166770935, 0.11135268956422806]\n",
      "5\n"
     ]
    },
    {
     "name": "stderr",
     "output_type": "stream",
     "text": [
      "  4%|▍         | 36/882 [02:19<54:36,  3.87s/it]"
     ]
    },
    {
     "name": "stdout",
     "output_type": "stream",
     "text": [
      "[0.09180077910423279, 0.08648326247930527, 0.08685819059610367, 0.08772092312574387, 0.08714038878679276, 0.08400390297174454, 0.08227439969778061]\n",
      "0\n"
     ]
    },
    {
     "name": "stderr",
     "output_type": "stream",
     "text": [
      "  4%|▍         | 37/882 [02:23<54:47,  3.89s/it]"
     ]
    },
    {
     "name": "stdout",
     "output_type": "stream",
     "text": [
      "[0.06715482473373413, 0.06543164700269699, 0.0638158842921257, 0.06284911185503006, 0.06296996027231216, 0.06339515745639801, 0.0596623457968235]\n",
      "0\n"
     ]
    },
    {
     "name": "stderr",
     "output_type": "stream",
     "text": [
      "  4%|▍         | 38/882 [02:26<53:40,  3.82s/it]"
     ]
    },
    {
     "name": "stdout",
     "output_type": "stream",
     "text": [
      "[0.05401109904050827, 0.05779043957591057, 0.04589959979057312, 0.04995003342628479, 0.047946080565452576, 0.04860520362854004, 0.04748362675309181]\n",
      "1\n"
     ]
    },
    {
     "name": "stderr",
     "output_type": "stream",
     "text": [
      "  4%|▍         | 39/882 [02:30<53:23,  3.80s/it]"
     ]
    },
    {
     "name": "stdout",
     "output_type": "stream",
     "text": [
      "[0.03751424327492714, 0.03445868939161301, 0.0319230780005455, 0.030911680310964584, 0.029344730079174042, 0.0278917383402586, 0.032777778804302216]\n",
      "0\n"
     ]
    },
    {
     "name": "stderr",
     "output_type": "stream",
     "text": [
      "  5%|▍         | 40/882 [02:34<53:34,  3.82s/it]"
     ]
    },
    {
     "name": "stdout",
     "output_type": "stream",
     "text": [
      "[0.051592934876680374, 0.052728403359651566, 0.04639597237110138, 0.04562625661492348, 0.04530417546629906, 0.04652152955532074, 0.04684361070394516]\n",
      "1\n"
     ]
    },
    {
     "name": "stderr",
     "output_type": "stream",
     "text": [
      "  5%|▍         | 41/882 [02:38<53:40,  3.83s/it]"
     ]
    },
    {
     "name": "stdout",
     "output_type": "stream",
     "text": [
      "[0.06125296652317047, 0.06916166096925735, 0.06123442202806473, 0.059032414108514786, 0.05894896760582924, 0.0563482791185379, 0.055458202958106995]\n",
      "1\n"
     ]
    },
    {
     "name": "stderr",
     "output_type": "stream",
     "text": [
      "  5%|▍         | 42/882 [02:42<53:42,  3.84s/it]"
     ]
    },
    {
     "name": "stdout",
     "output_type": "stream",
     "text": [
      "[0.09068315476179123, 0.08977105468511581, 0.09101787209510803, 0.09067060798406601, 0.09298015385866165, 0.08932755142450333, 0.09257849305868149]\n",
      "4\n"
     ]
    },
    {
     "name": "stderr",
     "output_type": "stream",
     "text": [
      "  5%|▍         | 43/882 [02:45<52:49,  3.78s/it]"
     ]
    },
    {
     "name": "stdout",
     "output_type": "stream",
     "text": [
      "[0.11270167678594589, 0.11185938119888306, 0.10916640609502792, 0.11047136783599854, 0.1090359091758728, 0.1104634627699852, 0.10979911684989929]\n",
      "0\n"
     ]
    },
    {
     "name": "stderr",
     "output_type": "stream",
     "text": [
      "  5%|▍         | 44/882 [02:49<52:08,  3.73s/it]"
     ]
    },
    {
     "name": "stdout",
     "output_type": "stream",
     "text": [
      "[0.20212560892105103, 0.19661635160446167, 0.2091967761516571, 0.20388083159923553, 0.2005443572998047, 0.19278888404369354, 0.19989870488643646]\n",
      "2\n"
     ]
    },
    {
     "name": "stderr",
     "output_type": "stream",
     "text": [
      "  5%|▌         | 45/882 [02:53<51:53,  3.72s/it]"
     ]
    },
    {
     "name": "stdout",
     "output_type": "stream",
     "text": [
      "[0.3065832555294037, 0.30507543683052063, 0.31035470962524414, 0.3056442141532898, 0.3086598217487335, 0.30712148547172546, 0.3026438355445862]\n",
      "2\n"
     ]
    },
    {
     "name": "stderr",
     "output_type": "stream",
     "text": [
      "  5%|▌         | 46/882 [02:56<52:03,  3.74s/it]"
     ]
    },
    {
     "name": "stdout",
     "output_type": "stream",
     "text": [
      "[0.14044569432735443, 0.16011813282966614, 0.15584534406661987, 0.15565741062164307, 0.15955814719200134, 0.1585647463798523, 0.1599915623664856]\n",
      "1\n"
     ]
    },
    {
     "name": "stderr",
     "output_type": "stream",
     "text": [
      "  5%|▌         | 47/882 [03:00<52:18,  3.76s/it]"
     ]
    },
    {
     "name": "stdout",
     "output_type": "stream",
     "text": [
      "[0.0968865305185318, 0.09482333809137344, 0.09375, 0.09222348034381866, 0.09324911236763, 0.09252162277698517, 0.09347172826528549]\n",
      "0\n"
     ]
    },
    {
     "name": "stderr",
     "output_type": "stream",
     "text": [
      "  5%|▌         | 48/882 [03:04<52:14,  3.76s/it]"
     ]
    },
    {
     "name": "stdout",
     "output_type": "stream",
     "text": [
      "[0.09595400840044022, 0.09737027436494827, 0.10037459433078766, 0.09991368651390076, 0.10022794455289841, 0.10201293975114822, 0.1014849841594696]\n",
      "5\n"
     ]
    },
    {
     "name": "stderr",
     "output_type": "stream",
     "text": [
      "  6%|▌         | 49/882 [03:07<49:31,  3.57s/it]"
     ]
    },
    {
     "name": "stdout",
     "output_type": "stream",
     "text": [
      "[0.07367702573537827, 0.07520850002765656, 0.07603421062231064, 0.0766800120472908, 0.07563288509845734, 0.0734325423836708, 0.07642169296741486]\n",
      "3\n"
     ]
    },
    {
     "name": "stderr",
     "output_type": "stream",
     "text": [
      "  6%|▌         | 50/882 [03:10<46:25,  3.35s/it]"
     ]
    },
    {
     "name": "stdout",
     "output_type": "stream",
     "text": [
      "[0.05471573397517204, 0.07953665405511856, 0.0832795575261116, 0.08254146575927734, 0.09023699909448624, 0.08347718417644501, 0.08645779639482498]\n",
      "4\n"
     ]
    },
    {
     "name": "stderr",
     "output_type": "stream",
     "text": [
      "  6%|▌         | 51/882 [03:13<43:49,  3.16s/it]"
     ]
    },
    {
     "name": "stdout",
     "output_type": "stream",
     "text": [
      "[0.09394916146993637, 0.09088167548179626, 0.09866207093000412, 0.10171466320753098, 0.09561692178249359, 0.0802757740020752, 0.07007192075252533]\n",
      "3\n"
     ]
    },
    {
     "name": "stderr",
     "output_type": "stream",
     "text": [
      "  6%|▌         | 52/882 [03:16<42:31,  3.07s/it]"
     ]
    },
    {
     "name": "stdout",
     "output_type": "stream",
     "text": [
      "[0.09568624943494797, 0.08484402298927307, 0.0987873375415802, 0.09548953920602798, 0.12322960048913956, 0.1266932487487793, 0.12779252231121063]\n",
      "6\n"
     ]
    },
    {
     "name": "stderr",
     "output_type": "stream",
     "text": [
      "  6%|▌         | 53/882 [03:19<42:27,  3.07s/it]"
     ]
    },
    {
     "name": "stdout",
     "output_type": "stream",
     "text": [
      "[0.10186848044395447, 0.11138266324996948, 0.10403522849082947, 0.10663923621177673, 0.10301627218723297, 0.10040836036205292, 0.10397666692733765]\n",
      "1\n"
     ]
    },
    {
     "name": "stderr",
     "output_type": "stream",
     "text": [
      "  6%|▌         | 54/882 [03:22<41:34,  3.01s/it]"
     ]
    },
    {
     "name": "stdout",
     "output_type": "stream",
     "text": [
      "[0.1040956899523735, 0.09299565106630325, 0.09185393154621124, 0.08609550446271896, 0.10132747143507004, 0.10040775686502457, 0.07999727874994278]\n",
      "0\n"
     ]
    }
   ],
   "source": [
    "dtu_data = DTUDataset(root_dir=\"/root/autodl-tmp/mvs_training/dtu\",split=\"val\",model=model)\n",
    "dtu_data.runs()"
   ]
  },
  {
   "cell_type": "code",
   "execution_count": null,
   "metadata": {},
   "outputs": [],
   "source": [
    "dtu_data = DTUDataset(root_dir=\"/root/autodl-tmp/mvs_training/dtu\",split=\"test\",model=model)\n",
    "dtu_data.runs()"
   ]
  },
  {
   "cell_type": "code",
   "execution_count": null,
   "metadata": {},
   "outputs": [],
   "source": [
    "dtu_data = DTUDataset(root_dir=\"/root/autodl-tmp/mvs_training/dtu\",split=\"train\",model=model)\n",
    "dtu_data.runs()"
   ]
  }
 ],
 "metadata": {
  "kernelspec": {
   "display_name": "base",
   "language": "python",
   "name": "python3"
  },
  "language_info": {
   "codemirror_mode": {
    "name": "ipython",
    "version": 3
   },
   "file_extension": ".py",
   "mimetype": "text/x-python",
   "name": "python",
   "nbconvert_exporter": "python",
   "pygments_lexer": "ipython3",
   "version": "3.8.10"
  }
 },
 "nbformat": 4,
 "nbformat_minor": 2
}
