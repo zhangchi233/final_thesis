{
 "cells": [
  {
   "cell_type": "code",
   "execution_count": 1,
   "metadata": {},
   "outputs": [
    {
     "name": "stderr",
     "output_type": "stream",
     "text": [
      "/root/miniconda3/lib/python3.8/site-packages/diffusers/models/unet_2d_blocks.py:249: FutureWarning: `AutoencoderTinyBlock` is deprecated and will be removed in version 0.29. Importing `AutoencoderTinyBlock` from `diffusers.models.unet_2d_blocks` is deprecated and this will be removed in a future version. Please use `from diffusers.models.unets.unet_2d_blocks import AutoencoderTinyBlock`, instead.\n",
      "  deprecate(\"AutoencoderTinyBlock\", \"0.29\", deprecation_message)\n",
      "/root/miniconda3/lib/python3.8/site-packages/diffusers/models/unet_2d_blocks.py:254: FutureWarning: `UNetMidBlock2D` is deprecated and will be removed in version 0.29. Importing `UNetMidBlock2D` from `diffusers.models.unet_2d_blocks` is deprecated and this will be removed in a future version. Please use `from diffusers.models.unets.unet_2d_blocks import UNetMidBlock2D`, instead.\n",
      "  deprecate(\"UNetMidBlock2D\", \"0.29\", deprecation_message)\n",
      "/root/miniconda3/lib/python3.8/site-packages/diffusers/models/unet_2d_blocks.py:259: FutureWarning: `UNetMidBlock2DCrossAttn` is deprecated and will be removed in version 0.29. Importing `UNetMidBlock2DCrossAttn` from `diffusers.models.unet_2d_blocks` is deprecated and this will be removed in a future version. Please use `from diffusers.models.unets.unet_2d_blocks import UNetMidBlock2DCrossAttn`, instead.\n",
      "  deprecate(\"UNetMidBlock2DCrossAttn\", \"0.29\", deprecation_message)\n",
      "/root/miniconda3/lib/python3.8/site-packages/diffusers/models/unet_2d_blocks.py:264: FutureWarning: `UNetMidBlock2DSimpleCrossAttn` is deprecated and will be removed in version 0.29. Importing `UNetMidBlock2DSimpleCrossAttn` from `diffusers.models.unet_2d_blocks` is deprecated and this will be removed in a future version. Please use `from diffusers.models.unets.unet_2d_blocks import UNetMidBlock2DSimpleCrossAttn`, instead.\n",
      "  deprecate(\"UNetMidBlock2DSimpleCrossAttn\", \"0.29\", deprecation_message)\n",
      "/root/miniconda3/lib/python3.8/site-packages/diffusers/models/unet_2d_blocks.py:269: FutureWarning: `AttnDownBlock2D` is deprecated and will be removed in version 0.29. Importing `AttnDownBlock2D` from `diffusers.models.unet_2d_blocks` is deprecated and this will be removed in a future version. Please use `from diffusers.models.unets.unet_2d_blocks import AttnDownBlock2D`, instead.\n",
      "  deprecate(\"AttnDownBlock2D\", \"0.29\", deprecation_message)\n",
      "/root/miniconda3/lib/python3.8/site-packages/diffusers/models/unet_2d_blocks.py:274: FutureWarning: `CrossAttnDownBlock2D` is deprecated and will be removed in version 0.29. Importing `AttnDownBlock2D` from `diffusers.models.unet_2d_blocks` is deprecated and this will be removed in a future version. Please use `from diffusers.models.unets.unet_2d_blocks import CrossAttnDownBlock2D`, instead.\n",
      "  deprecate(\"CrossAttnDownBlock2D\", \"0.29\", deprecation_message)\n",
      "/root/miniconda3/lib/python3.8/site-packages/diffusers/models/unet_2d_blocks.py:279: FutureWarning: `DownBlock2D` is deprecated and will be removed in version 0.29. Importing `DownBlock2D` from `diffusers.models.unet_2d_blocks` is deprecated and this will be removed in a future version. Please use `from diffusers.models.unets.unet_2d_blocks import DownBlock2D`, instead.\n",
      "  deprecate(\"DownBlock2D\", \"0.29\", deprecation_message)\n",
      "/root/miniconda3/lib/python3.8/site-packages/diffusers/models/unet_2d_blocks.py:284: FutureWarning: `AttnDownEncoderBlock2D` is deprecated and will be removed in version 0.29. Importing `AttnDownEncoderBlock2D` from `diffusers.models.unet_2d_blocks` is deprecated and this will be removed in a future version. Please use `from diffusers.models.unets.unet_2d_blocks import AttnDownEncoderBlock2D`, instead.\n",
      "  deprecate(\"AttnDownEncoderBlock2D\", \"0.29\", deprecation_message)\n",
      "/root/miniconda3/lib/python3.8/site-packages/diffusers/models/unet_2d_blocks.py:289: FutureWarning: `AttnSkipDownBlock2D` is deprecated and will be removed in version 0.29. Importing `AttnSkipDownBlock2D` from `diffusers.models.unet_2d_blocks` is deprecated and this will be removed in a future version. Please use `from diffusers.models.unets.unet_2d_blocks import AttnSkipDownBlock2D`, instead.\n",
      "  deprecate(\"AttnSkipDownBlock2D\", \"0.29\", deprecation_message)\n",
      "/root/miniconda3/lib/python3.8/site-packages/diffusers/models/unet_2d_blocks.py:294: FutureWarning: `SkipDownBlock2D` is deprecated and will be removed in version 0.29. Importing `SkipDownBlock2D` from `diffusers.models.unet_2d_blocks` is deprecated and this will be removed in a future version. Please use `from diffusers.models.unets.unet_2d_blocks import SkipDownBlock2D`, instead.\n",
      "  deprecate(\"SkipDownBlock2D\", \"0.29\", deprecation_message)\n",
      "/root/miniconda3/lib/python3.8/site-packages/diffusers/models/unet_2d_blocks.py:299: FutureWarning: `ResnetDownsampleBlock2D` is deprecated and will be removed in version 0.29. Importing `ResnetDownsampleBlock2D` from `diffusers.models.unet_2d_blocks` is deprecated and this will be removed in a future version. Please use `from diffusers.models.unets.unet_2d_blocks import ResnetDownsampleBlock2D`, instead.\n",
      "  deprecate(\"ResnetDownsampleBlock2D\", \"0.29\", deprecation_message)\n",
      "/root/miniconda3/lib/python3.8/site-packages/diffusers/models/unet_2d_blocks.py:304: FutureWarning: `SimpleCrossAttnDownBlock2D` is deprecated and will be removed in version 0.29. Importing `SimpleCrossAttnDownBlock2D` from `diffusers.models.unet_2d_blocks` is deprecated and this will be removed in a future version. Please use `from diffusers.models.unets.unet_2d_blocks import SimpleCrossAttnDownBlock2D`, instead.\n",
      "  deprecate(\"SimpleCrossAttnDownBlock2D\", \"0.29\", deprecation_message)\n",
      "/root/miniconda3/lib/python3.8/site-packages/diffusers/models/unet_2d_blocks.py:309: FutureWarning: `KDownBlock2D` is deprecated and will be removed in version 0.29. Importing `KDownBlock2D` from `diffusers.models.unet_2d_blocks` is deprecated and this will be removed in a future version. Please use `from diffusers.models.unets.unet_2d_blocks import KDownBlock2D`, instead.\n",
      "  deprecate(\"KDownBlock2D\", \"0.29\", deprecation_message)\n",
      "/root/miniconda3/lib/python3.8/site-packages/diffusers/models/unet_2d_blocks.py:314: FutureWarning: `KCrossAttnDownBlock2D` is deprecated and will be removed in version 0.29. Importing `KCrossAttnDownBlock2D` from `diffusers.models.unet_2d_blocks` is deprecated and this will be removed in a future version. Please use `from diffusers.models.unets.unet_2d_blocks import KCrossAttnDownBlock2D`, instead.\n",
      "  deprecate(\"KCrossAttnDownBlock2D\", \"0.29\", deprecation_message)\n",
      "/root/miniconda3/lib/python3.8/site-packages/diffusers/models/unet_2d_blocks.py:319: FutureWarning: `AttnUpBlock2D` is deprecated and will be removed in version 0.29. Importing `AttnUpBlock2D` from `diffusers.models.unet_2d_blocks` is deprecated and this will be removed in a future version. Please use `from diffusers.models.unets.unet_2d_blocks import AttnUpBlock2D`, instead.\n",
      "  deprecate(\"AttnUpBlock2D\", \"0.29\", deprecation_message)\n",
      "/root/miniconda3/lib/python3.8/site-packages/diffusers/models/unet_2d_blocks.py:324: FutureWarning: `CrossAttnUpBlock2D` is deprecated and will be removed in version 0.29. Importing `CrossAttnUpBlock2D` from `diffusers.models.unet_2d_blocks` is deprecated and this will be removed in a future version. Please use `from diffusers.models.unets.unet_2d_blocks import CrossAttnUpBlock2D`, instead.\n",
      "  deprecate(\"CrossAttnUpBlock2D\", \"0.29\", deprecation_message)\n",
      "/root/miniconda3/lib/python3.8/site-packages/diffusers/models/unet_2d_blocks.py:329: FutureWarning: `UpBlock2D` is deprecated and will be removed in version 0.29. Importing `UpBlock2D` from `diffusers.models.unet_2d_blocks` is deprecated and this will be removed in a future version. Please use `from diffusers.models.unets.unet_2d_blocks import UpBlock2D`, instead.\n",
      "  deprecate(\"UpBlock2D\", \"0.29\", deprecation_message)\n",
      "/root/miniconda3/lib/python3.8/site-packages/diffusers/models/unet_2d_blocks.py:334: FutureWarning: `UpDecoderBlock2D` is deprecated and will be removed in version 0.29. Importing `UpDecoderBlock2D` from `diffusers.models.unet_2d_blocks` is deprecated and this will be removed in a future version. Please use `from diffusers.models.unets.unet_2d_blocks import UpDecoderBlock2D`, instead.\n",
      "  deprecate(\"UpDecoderBlock2D\", \"0.29\", deprecation_message)\n",
      "/root/miniconda3/lib/python3.8/site-packages/diffusers/models/unet_2d_blocks.py:339: FutureWarning: `AttnUpDecoderBlock2D` is deprecated and will be removed in version 0.29. Importing `AttnUpDecoderBlock2D` from `diffusers.models.unet_2d_blocks` is deprecated and this will be removed in a future version. Please use `from diffusers.models.unets.unet_2d_blocks import AttnUpDecoderBlock2D`, instead.\n",
      "  deprecate(\"AttnUpDecoderBlock2D\", \"0.29\", deprecation_message)\n",
      "/root/miniconda3/lib/python3.8/site-packages/diffusers/models/unet_2d_blocks.py:344: FutureWarning: `AttnSkipUpBlock2D` is deprecated and will be removed in version 0.29. Importing `AttnSkipUpBlock2D` from `diffusers.models.unet_2d_blocks` is deprecated and this will be removed in a future version. Please use `from diffusers.models.unets.unet_2d_blocks import AttnSkipUpBlock2D`, instead.\n",
      "  deprecate(\"AttnSkipUpBlock2D\", \"0.29\", deprecation_message)\n",
      "/root/miniconda3/lib/python3.8/site-packages/diffusers/models/unet_2d_blocks.py:349: FutureWarning: `SkipUpBlock2D` is deprecated and will be removed in version 0.29. Importing `SkipUpBlock2D` from `diffusers.models.unet_2d_blocks` is deprecated and this will be removed in a future version. Please use `from diffusers.models.unets.unet_2d_blocks import SkipUpBlock2D`, instead.\n",
      "  deprecate(\"SkipUpBlock2D\", \"0.29\", deprecation_message)\n",
      "/root/miniconda3/lib/python3.8/site-packages/diffusers/models/unet_2d_blocks.py:354: FutureWarning: `ResnetUpsampleBlock2D` is deprecated and will be removed in version 0.29. Importing `ResnetUpsampleBlock2D` from `diffusers.models.unet_2d_blocks` is deprecated and this will be removed in a future version. Please use `from diffusers.models.unets.unet_2d_blocks import ResnetUpsampleBlock2D`, instead.\n",
      "  deprecate(\"ResnetUpsampleBlock2D\", \"0.29\", deprecation_message)\n",
      "/root/miniconda3/lib/python3.8/site-packages/diffusers/models/unet_2d_blocks.py:359: FutureWarning: `SimpleCrossAttnUpBlock2D` is deprecated and will be removed in version 0.29. Importing `SimpleCrossAttnUpBlock2D` from `diffusers.models.unet_2d_blocks` is deprecated and this will be removed in a future version. Please use `from diffusers.models.unets.unet_2d_blocks import SimpleCrossAttnUpBlock2D`, instead.\n",
      "  deprecate(\"SimpleCrossAttnUpBlock2D\", \"0.29\", deprecation_message)\n",
      "/root/miniconda3/lib/python3.8/site-packages/diffusers/models/unet_2d_blocks.py:364: FutureWarning: `KUpBlock2D` is deprecated and will be removed in version 0.29. Importing `KUpBlock2D` from `diffusers.models.unet_2d_blocks` is deprecated and this will be removed in a future version. Please use `from diffusers.models.unets.unet_2d_blocks import KUpBlock2D`, instead.\n",
      "  deprecate(\"KUpBlock2D\", \"0.29\", deprecation_message)\n",
      "/root/miniconda3/lib/python3.8/site-packages/diffusers/models/unet_2d_blocks.py:369: FutureWarning: `KCrossAttnUpBlock2D` is deprecated and will be removed in version 0.29. Importing `KCrossAttnUpBlock2D` from `diffusers.models.unet_2d_blocks` is deprecated and this will be removed in a future version. Please use `from diffusers.models.unets.unet_2d_blocks import KCrossAttnUpBlock2D`, instead.\n",
      "  deprecate(\"KCrossAttnUpBlock2D\", \"0.29\", deprecation_message)\n",
      "/root/miniconda3/lib/python3.8/site-packages/diffusers/models/unet_2d_blocks.py:375: FutureWarning: `KAttentionBlock` is deprecated and will be removed in version 0.29. Importing `KAttentionBlock` from `diffusers.models.unet_2d_blocks` is deprecated and this will be removed in a future version. Please use `from diffusers.models.unets.unet_2d_blocks import KAttentionBlock`, instead.\n",
      "  deprecate(\"KAttentionBlock\", \"0.29\", deprecation_message)\n",
      "/root/miniconda3/lib/python3.8/site-packages/diffusers/models/unet_2d_condition.py:20: FutureWarning: `UNet2DConditionOutput` is deprecated and will be removed in version 0.29. Importing `UNet2DConditionOutput` from `diffusers.models.unet_2d_condition` is deprecated and this will be removed in a future version. Please use `from diffusers.models.unets.unet_2d_condition import UNet2DConditionOutput`, instead.\n",
      "  deprecate(\"UNet2DConditionOutput\", \"0.29\", deprecation_message)\n",
      "/root/miniconda3/lib/python3.8/site-packages/diffusers/models/unet_2d_condition.py:25: FutureWarning: `UNet2DConditionModel` is deprecated and will be removed in version 0.29. Importing `UNet2DConditionModel` from `diffusers.models.unet_2d_condition` is deprecated and this will be removed in a future version. Please use `from diffusers.models.unets.unet_2d_condition import UNet2DConditionModel`, instead.\n",
      "  deprecate(\"UNet2DConditionModel\", \"0.29\", deprecation_message)\n",
      "/root/miniconda3/lib/python3.8/site-packages/diffusers/models/dual_transformer_2d.py:20: FutureWarning: `DualTransformer2DModel` is deprecated and will be removed in version 0.29. Importing `DualTransformer2DModel` from `diffusers.models.dual_transformer_2d` is deprecated and this will be removed in a future version. Please use `from diffusers.models.transformers.dual_transformer_2d import DualTransformer2DModel`, instead.\n",
      "  deprecate(\"DualTransformer2DModel\", \"0.29\", deprecation_message)\n",
      "/root/miniconda3/lib/python3.8/site-packages/diffusers/models/transformer_2d.py:20: FutureWarning: `Transformer2DModelOutput` is deprecated and will be removed in version 0.29. Importing `Transformer2DModelOutput` from `diffusers.models.transformer_2d` is deprecated and this will be removed in a future version. Please use `from diffusers.models.transformers.transformer_2d import Transformer2DModelOutput`, instead.\n",
      "  deprecate(\"Transformer2DModelOutput\", \"0.29\", deprecation_message)\n",
      "/root/miniconda3/lib/python3.8/site-packages/diffusers/models/transformer_2d.py:25: FutureWarning: `Transformer2DModel` is deprecated and will be removed in version 0.29. Importing `Transformer2DModel` from `diffusers.models.transformer_2d` is deprecated and this will be removed in a future version. Please use `from diffusers.models.transformers.transformer_2d import Transformer2DModel`, instead.\n",
      "  deprecate(\"Transformer2DModel\", \"0.29\", deprecation_message)\n"
     ]
    },
    {
     "ename": "ImportError",
     "evalue": "cannot import name 'scale_intrinsics' from 'viewdiff.data.co3d.util' (/root/autodl-tmp/ViewDiff/viewdiff/data/co3d/util.py)",
     "output_type": "error",
     "traceback": [
      "\u001b[0;31m---------------------------------------------------------------------------\u001b[0m",
      "\u001b[0;31mImportError\u001b[0m                               Traceback (most recent call last)",
      "Cell \u001b[0;32mIn[1], line 25\u001b[0m\n\u001b[1;32m     17\u001b[0m \u001b[38;5;28;01mfrom\u001b[39;00m \u001b[38;5;21;01mtransformers\u001b[39;00m \u001b[38;5;28;01mimport\u001b[39;00m CLIPTextModel, CLIPTokenizer\n\u001b[1;32m     18\u001b[0m \u001b[38;5;28;01mfrom\u001b[39;00m \u001b[38;5;21;01mdiffusers\u001b[39;00m \u001b[38;5;28;01mimport\u001b[39;00m (\n\u001b[1;32m     19\u001b[0m     AutoencoderKL,\n\u001b[1;32m     20\u001b[0m     DDPMScheduler,\n\u001b[1;32m     21\u001b[0m     UNet2DConditionModel,\n\u001b[1;32m     22\u001b[0m     DPMSolverMultistepScheduler,\n\u001b[1;32m     23\u001b[0m )\n\u001b[0;32m---> 25\u001b[0m \u001b[38;5;28;01mfrom\u001b[39;00m \u001b[38;5;21;01mviewdiff\u001b[39;00m\u001b[38;5;21;01m.\u001b[39;00m\u001b[38;5;21;01mmodel\u001b[39;00m\u001b[38;5;21;01m.\u001b[39;00m\u001b[38;5;21;01mcustom_unet_2d_condition\u001b[39;00m \u001b[38;5;28;01mimport\u001b[39;00m (\n\u001b[1;32m     26\u001b[0m     UNet2DConditionCrossFrameInExistingAttnModel,\n\u001b[1;32m     27\u001b[0m     get_down_block_types,\n\u001b[1;32m     28\u001b[0m     get_mid_block_type,\n\u001b[1;32m     29\u001b[0m     get_up_block_types,\n\u001b[1;32m     30\u001b[0m )\n\u001b[1;32m     31\u001b[0m \u001b[38;5;28;01mfrom\u001b[39;00m \u001b[38;5;21;01mviewdiff\u001b[39;00m\u001b[38;5;21;01m.\u001b[39;00m\u001b[38;5;21;01mmodel\u001b[39;00m\u001b[38;5;21;01m.\u001b[39;00m\u001b[38;5;21;01mutil\u001b[39;00m \u001b[38;5;28;01mimport\u001b[39;00m (\n\u001b[1;32m     32\u001b[0m     replace_self_attention_with_cross_frame_attention,\n\u001b[1;32m     33\u001b[0m     update_last_layer_mode,\n\u001b[0;32m   (...)\u001b[0m\n\u001b[1;32m     45\u001b[0m     build_cross_attention_kwargs,\n\u001b[1;32m     46\u001b[0m )\n\u001b[1;32m     47\u001b[0m \u001b[38;5;28;01mfrom\u001b[39;00m \u001b[38;5;21;01mviewdiff\u001b[39;00m\u001b[38;5;21;01m.\u001b[39;00m\u001b[38;5;21;01mmodel\u001b[39;00m\u001b[38;5;21;01m.\u001b[39;00m\u001b[38;5;21;01mcustom_stable_diffusion_pipeline\u001b[39;00m \u001b[38;5;28;01mimport\u001b[39;00m CustomStableDiffusionPipeline\n",
      "File \u001b[0;32m~/autodl-tmp/ViewDiff/viewdiff/model/custom_unet_2d_condition.py:50\u001b[0m\n\u001b[1;32m     41\u001b[0m \u001b[38;5;28;01mfrom\u001b[39;00m \u001b[38;5;21;01mdiffusers\u001b[39;00m\u001b[38;5;21;01m.\u001b[39;00m\u001b[38;5;21;01mmodels\u001b[39;00m\u001b[38;5;21;01m.\u001b[39;00m\u001b[38;5;21;01munet_2d_blocks\u001b[39;00m \u001b[38;5;28;01mimport\u001b[39;00m (\n\u001b[1;32m     42\u001b[0m     CrossAttnDownBlock2D,\n\u001b[1;32m     43\u001b[0m     DownBlock2D,\n\u001b[0;32m   (...)\u001b[0m\n\u001b[1;32m     46\u001b[0m     UNetMidBlock2DCrossAttn,\n\u001b[1;32m     47\u001b[0m )\n\u001b[1;32m     48\u001b[0m \u001b[38;5;28;01mfrom\u001b[39;00m \u001b[38;5;21;01mdiffusers\u001b[39;00m\u001b[38;5;21;01m.\u001b[39;00m\u001b[38;5;21;01mmodels\u001b[39;00m\u001b[38;5;21;01m.\u001b[39;00m\u001b[38;5;21;01munet_2d_condition\u001b[39;00m \u001b[38;5;28;01mimport\u001b[39;00m UNet2DConditionModel\n\u001b[0;32m---> 50\u001b[0m \u001b[38;5;28;01mfrom\u001b[39;00m \u001b[38;5;21;01m.\u001b[39;00m\u001b[38;5;21;01mcustom_unet_2d_blocks\u001b[39;00m \u001b[38;5;28;01mimport\u001b[39;00m (\n\u001b[1;32m     51\u001b[0m     CrossFrameInExistingAttnDownBlock2D,\n\u001b[1;32m     52\u001b[0m     CrossFrameInExistingAttnUpBlock2D,\n\u001b[1;32m     53\u001b[0m     UNetMidBlock2DCrossFrameInExistingAttn,\n\u001b[1;32m     54\u001b[0m     get_last_layer_in_existing,\n\u001b[1;32m     55\u001b[0m     get_cross_frame_parameters_in_existing,\n\u001b[1;32m     56\u001b[0m     get_other_parameters_in_existing,\n\u001b[1;32m     57\u001b[0m )\n\u001b[1;32m     58\u001b[0m \u001b[38;5;28;01mfrom\u001b[39;00m \u001b[38;5;21;01m.\u001b[39;00m\u001b[38;5;21;01mcustom_attention_processor\u001b[39;00m \u001b[38;5;28;01mimport\u001b[39;00m expand_batch, collapse_batch\n\u001b[1;32m     60\u001b[0m logger \u001b[38;5;241m=\u001b[39m logging\u001b[38;5;241m.\u001b[39mget_logger(\u001b[38;5;18m__name__\u001b[39m)  \u001b[38;5;66;03m# pylint: disable=invalid-name\u001b[39;00m\n",
      "File \u001b[0;32m~/autodl-tmp/ViewDiff/viewdiff/model/custom_unet_2d_blocks.py:33\u001b[0m\n\u001b[1;32m     30\u001b[0m \u001b[38;5;28;01mfrom\u001b[39;00m \u001b[38;5;21;01mdiffusers\u001b[39;00m\u001b[38;5;21;01m.\u001b[39;00m\u001b[38;5;21;01mmodels\u001b[39;00m\u001b[38;5;21;01m.\u001b[39;00m\u001b[38;5;21;01mtransformer_2d\u001b[39;00m \u001b[38;5;28;01mimport\u001b[39;00m Transformer2DModel\n\u001b[1;32m     31\u001b[0m \u001b[38;5;28;01mfrom\u001b[39;00m \u001b[38;5;21;01mdiffusers\u001b[39;00m\u001b[38;5;21;01m.\u001b[39;00m\u001b[38;5;21;01mmodels\u001b[39;00m\u001b[38;5;21;01m.\u001b[39;00m\u001b[38;5;21;01mattention\u001b[39;00m \u001b[38;5;28;01mimport\u001b[39;00m BasicTransformerBlock\n\u001b[0;32m---> 33\u001b[0m \u001b[38;5;28;01mfrom\u001b[39;00m \u001b[38;5;21;01m.\u001b[39;00m\u001b[38;5;21;01mcustom_transformer_2d\u001b[39;00m \u001b[38;5;28;01mimport\u001b[39;00m Transformer2DSelfAttnCrossAttnCrossFrameAttnModel\n\u001b[1;32m     34\u001b[0m \u001b[38;5;28;01mfrom\u001b[39;00m \u001b[38;5;21;01m.\u001b[39;00m\u001b[38;5;21;01mcustom_attention\u001b[39;00m \u001b[38;5;28;01mimport\u001b[39;00m BasicTransformerWithCrossFrameAttentionBlock\n\u001b[1;32m     36\u001b[0m \u001b[38;5;28;01mfrom\u001b[39;00m \u001b[38;5;21;01m.\u001b[39;00m\u001b[38;5;21;01mprojection\u001b[39;00m\u001b[38;5;21;01m.\u001b[39;00m\u001b[38;5;21;01mlayer\u001b[39;00m \u001b[38;5;28;01mimport\u001b[39;00m UnprojReprojLayer\n",
      "File \u001b[0;32m~/autodl-tmp/ViewDiff/viewdiff/model/custom_transformer_2d.py:27\u001b[0m\n\u001b[1;32m     24\u001b[0m \u001b[38;5;28;01mfrom\u001b[39;00m \u001b[38;5;21;01mdiffusers\u001b[39;00m\u001b[38;5;21;01m.\u001b[39;00m\u001b[38;5;21;01mmodels\u001b[39;00m\u001b[38;5;21;01m.\u001b[39;00m\u001b[38;5;21;01mmodeling_utils\u001b[39;00m \u001b[38;5;28;01mimport\u001b[39;00m ModelMixin\n\u001b[1;32m     25\u001b[0m \u001b[38;5;28;01mfrom\u001b[39;00m \u001b[38;5;21;01mdiffusers\u001b[39;00m\u001b[38;5;21;01m.\u001b[39;00m\u001b[38;5;21;01mmodels\u001b[39;00m\u001b[38;5;21;01m.\u001b[39;00m\u001b[38;5;21;01mtransformer_2d\u001b[39;00m \u001b[38;5;28;01mimport\u001b[39;00m Transformer2DModelOutput\n\u001b[0;32m---> 27\u001b[0m \u001b[38;5;28;01mfrom\u001b[39;00m \u001b[38;5;21;01m.\u001b[39;00m\u001b[38;5;21;01mcustom_attention\u001b[39;00m \u001b[38;5;28;01mimport\u001b[39;00m BasicTransformerWithCrossFrameAttentionBlock\n\u001b[1;32m     29\u001b[0m \u001b[38;5;28;01mfrom\u001b[39;00m \u001b[38;5;21;01m.\u001b[39;00m\u001b[38;5;21;01mprojection\u001b[39;00m\u001b[38;5;21;01m.\u001b[39;00m\u001b[38;5;21;01mlayer\u001b[39;00m \u001b[38;5;28;01mimport\u001b[39;00m UnprojReprojLayer\n\u001b[1;32m     32\u001b[0m \u001b[38;5;28;01mclass\u001b[39;00m \u001b[38;5;21;01mTransformer2DSelfAttnCrossAttnCrossFrameAttnModel\u001b[39;00m(ModelMixin, ConfigMixin):\n",
      "File \u001b[0;32m~/autodl-tmp/ViewDiff/viewdiff/model/custom_attention.py:36\u001b[0m\n\u001b[1;32m     25\u001b[0m \u001b[38;5;28;01mfrom\u001b[39;00m \u001b[38;5;21;01mdiffusers\u001b[39;00m\u001b[38;5;21;01m.\u001b[39;00m\u001b[38;5;21;01mmodels\u001b[39;00m\u001b[38;5;21;01m.\u001b[39;00m\u001b[38;5;21;01mattention\u001b[39;00m \u001b[38;5;28;01mimport\u001b[39;00m (\n\u001b[1;32m     26\u001b[0m     BasicTransformerBlock,\n\u001b[1;32m     27\u001b[0m     AdaLayerNorm,\n\u001b[0;32m   (...)\u001b[0m\n\u001b[1;32m     31\u001b[0m     ApproximateGELU,\n\u001b[1;32m     32\u001b[0m )\n\u001b[1;32m     34\u001b[0m \u001b[38;5;28;01mfrom\u001b[39;00m \u001b[38;5;21;01m.\u001b[39;00m\u001b[38;5;21;01mcustom_attention_processor\u001b[39;00m \u001b[38;5;28;01mimport\u001b[39;00m CrossFrameAttentionProcessor2_0, expand_batch, collapse_batch\n\u001b[0;32m---> 36\u001b[0m \u001b[38;5;28;01mfrom\u001b[39;00m \u001b[38;5;21;01m.\u001b[39;00m\u001b[38;5;21;01mprojection\u001b[39;00m\u001b[38;5;21;01m.\u001b[39;00m\u001b[38;5;21;01mlayer\u001b[39;00m \u001b[38;5;28;01mimport\u001b[39;00m UnprojReprojLayer\n\u001b[1;32m     38\u001b[0m \u001b[38;5;28;01mfrom\u001b[39;00m \u001b[38;5;21;01mdiffusers\u001b[39;00m\u001b[38;5;21;01m.\u001b[39;00m\u001b[38;5;21;01mmodels\u001b[39;00m\u001b[38;5;21;01m.\u001b[39;00m\u001b[38;5;21;01mcontrolnet\u001b[39;00m \u001b[38;5;28;01mimport\u001b[39;00m zero_module\n\u001b[1;32m     41\u001b[0m \u001b[38;5;129m@maybe_allow_in_graph\u001b[39m\n\u001b[1;32m     42\u001b[0m \u001b[38;5;28;01mclass\u001b[39;00m \u001b[38;5;21;01mBasicTransformerWithCrossFrameAttentionBlock\u001b[39;00m(BasicTransformerBlock):\n",
      "File \u001b[0;32m~/autodl-tmp/ViewDiff/viewdiff/model/projection/layer.py:7\u001b[0m\n\u001b[1;32m      4\u001b[0m \u001b[38;5;28;01mimport\u001b[39;00m \u001b[38;5;21;01mtorch\u001b[39;00m\n\u001b[1;32m      5\u001b[0m \u001b[38;5;28;01mfrom\u001b[39;00m \u001b[38;5;21;01mtorch\u001b[39;00m \u001b[38;5;28;01mimport\u001b[39;00m nn\n\u001b[0;32m----> 7\u001b[0m \u001b[38;5;28;01mfrom\u001b[39;00m \u001b[38;5;21;01m.\u001b[39;00m\u001b[38;5;21;01m.\u001b[39;00m\u001b[38;5;21;01m.\u001b[39;00m\u001b[38;5;21;01mdata\u001b[39;00m\u001b[38;5;21;01m.\u001b[39;00m\u001b[38;5;21;01mco3d\u001b[39;00m\u001b[38;5;21;01m.\u001b[39;00m\u001b[38;5;21;01mutil\u001b[39;00m \u001b[38;5;28;01mimport\u001b[39;00m scale_intrinsics\n\u001b[1;32m     10\u001b[0m \u001b[38;5;28;01mfrom\u001b[39;00m \u001b[38;5;21;01mdiffusers\u001b[39;00m\u001b[38;5;21;01m.\u001b[39;00m\u001b[38;5;21;01mmodels\u001b[39;00m\u001b[38;5;21;01m.\u001b[39;00m\u001b[38;5;21;01munet_2d\u001b[39;00m \u001b[38;5;28;01mimport\u001b[39;00m UNet2DModel\n\u001b[1;32m     12\u001b[0m \u001b[38;5;28;01mfrom\u001b[39;00m \u001b[38;5;21;01m.\u001b[39;00m\u001b[38;5;21;01mutil\u001b[39;00m \u001b[38;5;28;01mimport\u001b[39;00m get_pixel_grids\n",
      "\u001b[0;31mImportError\u001b[0m: cannot import name 'scale_intrinsics' from 'viewdiff.data.co3d.util' (/root/autodl-tmp/ViewDiff/viewdiff/data/co3d/util.py)"
     ]
    }
   ],
   "source": [
    "# Copyright (c) Meta Platforms, Inc. and affiliates.\n",
    "\n",
    "from typing import Optional, List, Dict\n",
    "import sys\n",
    "sys.path.append(\"/root/autodl-tmp/ViewDiff/\")\n",
    "import os\n",
    "import tyro\n",
    "import numpy as np\n",
    "import torch\n",
    "import torch.nn.functional as F\n",
    "import torch.utils.checkpoint\n",
    "\n",
    "from accelerate import Accelerator, skip_first_batches\n",
    "from accelerate.logging import get_logger\n",
    "from tqdm.auto import tqdm\n",
    "\n",
    "from transformers import CLIPTextModel, CLIPTokenizer\n",
    "from diffusers import (\n",
    "    AutoencoderKL,\n",
    "    DDPMScheduler,\n",
    "    UNet2DConditionModel,\n",
    "    DPMSolverMultistepScheduler,\n",
    ")\n",
    "\n",
    "from viewdiff.model.custom_unet_2d_condition import (\n",
    "    UNet2DConditionCrossFrameInExistingAttnModel,\n",
    "    get_down_block_types,\n",
    "    get_mid_block_type,\n",
    "    get_up_block_types,\n",
    ")\n",
    "from viewdiff.model.util import (\n",
    "    replace_self_attention_with_cross_frame_attention,\n",
    "    update_last_layer_mode,\n",
    "    update_vol_rend_inject_noise_sigma,\n",
    "    update_n_novel_images,\n",
    "    update_cross_frame_attention_config,\n",
    "    add_pose_cond_to_attention_layers,\n",
    "    collapse_prompt_to_batch_dim,\n",
    "    collapse_tensor_to_batch_dim,\n",
    "    expand_output_to_k,\n",
    "    expand_tensor_to_k,\n",
    "    tokenize_captions,\n",
    "    ModelConfig,\n",
    "    CrossFrameAttentionConfig,\n",
    "    build_cross_attention_kwargs,\n",
    ")\n",
    "from viewdiff.model.custom_stable_diffusion_pipeline import CustomStableDiffusionPipeline\n",
    "\n",
    "from viewdiff.io_util import (\n",
    "    make_image_grid,\n",
    "    norm_0_1,\n",
    "    setup_output_directories,\n",
    "    make_output_directories,\n",
    "    save_inference_outputs,\n",
    "    IOConfig,\n",
    ")\n",
    "from viewdiff.train_util import (\n",
    "    check_local_rank,\n",
    "    FinetuneConfig,\n",
    "    load_models,\n",
    "    setup_accelerate,\n",
    "    setup_model_and_optimizer,\n",
    "    setup_train_val_dataloaders,\n",
    "    setup_training,\n",
    "    save_checkpoint,\n",
    "    maybe_continue_training,\n",
    ")\n",
    "\n",
    "from viewdiff.metrics.image_metrics import calc_psnr_ssim_lpips\n",
    "\n",
    "from viewdiff.data.co3d.co3d_dataset import CO3DConfig\n",
    "\n",
    "from viewdiff.scripts.misc.create_masked_images import remove_background"
   ]
  },
  {
   "cell_type": "code",
   "execution_count": 1,
   "metadata": {},
   "outputs": [],
   "source": [
    "import pytorch3d"
   ]
  },
  {
   "cell_type": "code",
   "execution_count": 2,
   "metadata": {},
   "outputs": [
    {
     "data": {
      "text/plain": [
       "'0.7.6'"
      ]
     },
     "execution_count": 2,
     "metadata": {},
     "output_type": "execute_result"
    }
   ],
   "source": [
    "pytorch3d.__version__"
   ]
  },
  {
   "cell_type": "code",
   "execution_count": 4,
   "metadata": {},
   "outputs": [
    {
     "ename": "ImportError",
     "evalue": "cannot import name 'scale_intrinsics' from 'viewdiff.data.co3d.util' (/root/autodl-tmp/ViewDiff/viewdiff/data/co3d/util.py)",
     "output_type": "error",
     "traceback": [
      "\u001b[0;31m---------------------------------------------------------------------------\u001b[0m",
      "\u001b[0;31mImportError\u001b[0m                               Traceback (most recent call last)",
      "Cell \u001b[0;32mIn[4], line 3\u001b[0m\n\u001b[1;32m      1\u001b[0m \u001b[38;5;28;01mimport\u001b[39;00m \u001b[38;5;21;01msys\u001b[39;00m\n\u001b[1;32m      2\u001b[0m sys\u001b[38;5;241m.\u001b[39mpath\u001b[38;5;241m.\u001b[39mappend(\u001b[38;5;124m\"\u001b[39m\u001b[38;5;124m/root/autodl-tmp/ViewDiff/\u001b[39m\u001b[38;5;124m\"\u001b[39m)\n\u001b[0;32m----> 3\u001b[0m \u001b[38;5;28;01mfrom\u001b[39;00m \u001b[38;5;21;01mviewdiff\u001b[39;00m\u001b[38;5;21;01m.\u001b[39;00m\u001b[38;5;21;01mmodel\u001b[39;00m\u001b[38;5;21;01m.\u001b[39;00m\u001b[38;5;21;01mcustom_unet_2d_condition\u001b[39;00m \u001b[38;5;28;01mimport\u001b[39;00m UNet2DConditionCrossFrameInExistingAttnModel\n",
      "File \u001b[0;32m~/autodl-tmp/ViewDiff/viewdiff/model/custom_unet_2d_condition.py:50\u001b[0m\n\u001b[1;32m     41\u001b[0m \u001b[38;5;28;01mfrom\u001b[39;00m \u001b[38;5;21;01mdiffusers\u001b[39;00m\u001b[38;5;21;01m.\u001b[39;00m\u001b[38;5;21;01mmodels\u001b[39;00m\u001b[38;5;21;01m.\u001b[39;00m\u001b[38;5;21;01munet_2d_blocks\u001b[39;00m \u001b[38;5;28;01mimport\u001b[39;00m (\n\u001b[1;32m     42\u001b[0m     CrossAttnDownBlock2D,\n\u001b[1;32m     43\u001b[0m     DownBlock2D,\n\u001b[0;32m   (...)\u001b[0m\n\u001b[1;32m     46\u001b[0m     UNetMidBlock2DCrossAttn,\n\u001b[1;32m     47\u001b[0m )\n\u001b[1;32m     48\u001b[0m \u001b[38;5;28;01mfrom\u001b[39;00m \u001b[38;5;21;01mdiffusers\u001b[39;00m\u001b[38;5;21;01m.\u001b[39;00m\u001b[38;5;21;01mmodels\u001b[39;00m\u001b[38;5;21;01m.\u001b[39;00m\u001b[38;5;21;01munet_2d_condition\u001b[39;00m \u001b[38;5;28;01mimport\u001b[39;00m UNet2DConditionModel\n\u001b[0;32m---> 50\u001b[0m \u001b[38;5;28;01mfrom\u001b[39;00m \u001b[38;5;21;01m.\u001b[39;00m\u001b[38;5;21;01mcustom_unet_2d_blocks\u001b[39;00m \u001b[38;5;28;01mimport\u001b[39;00m (\n\u001b[1;32m     51\u001b[0m     CrossFrameInExistingAttnDownBlock2D,\n\u001b[1;32m     52\u001b[0m     CrossFrameInExistingAttnUpBlock2D,\n\u001b[1;32m     53\u001b[0m     UNetMidBlock2DCrossFrameInExistingAttn,\n\u001b[1;32m     54\u001b[0m     get_last_layer_in_existing,\n\u001b[1;32m     55\u001b[0m     get_cross_frame_parameters_in_existing,\n\u001b[1;32m     56\u001b[0m     get_other_parameters_in_existing,\n\u001b[1;32m     57\u001b[0m )\n\u001b[1;32m     58\u001b[0m \u001b[38;5;28;01mfrom\u001b[39;00m \u001b[38;5;21;01m.\u001b[39;00m\u001b[38;5;21;01mcustom_attention_processor\u001b[39;00m \u001b[38;5;28;01mimport\u001b[39;00m expand_batch, collapse_batch\n\u001b[1;32m     60\u001b[0m logger \u001b[38;5;241m=\u001b[39m logging\u001b[38;5;241m.\u001b[39mget_logger(\u001b[38;5;18m__name__\u001b[39m)  \u001b[38;5;66;03m# pylint: disable=invalid-name\u001b[39;00m\n",
      "File \u001b[0;32m~/autodl-tmp/ViewDiff/viewdiff/model/custom_unet_2d_blocks.py:33\u001b[0m\n\u001b[1;32m     30\u001b[0m \u001b[38;5;28;01mfrom\u001b[39;00m \u001b[38;5;21;01mdiffusers\u001b[39;00m\u001b[38;5;21;01m.\u001b[39;00m\u001b[38;5;21;01mmodels\u001b[39;00m\u001b[38;5;21;01m.\u001b[39;00m\u001b[38;5;21;01mtransformer_2d\u001b[39;00m \u001b[38;5;28;01mimport\u001b[39;00m Transformer2DModel\n\u001b[1;32m     31\u001b[0m \u001b[38;5;28;01mfrom\u001b[39;00m \u001b[38;5;21;01mdiffusers\u001b[39;00m\u001b[38;5;21;01m.\u001b[39;00m\u001b[38;5;21;01mmodels\u001b[39;00m\u001b[38;5;21;01m.\u001b[39;00m\u001b[38;5;21;01mattention\u001b[39;00m \u001b[38;5;28;01mimport\u001b[39;00m BasicTransformerBlock\n\u001b[0;32m---> 33\u001b[0m \u001b[38;5;28;01mfrom\u001b[39;00m \u001b[38;5;21;01m.\u001b[39;00m\u001b[38;5;21;01mcustom_transformer_2d\u001b[39;00m \u001b[38;5;28;01mimport\u001b[39;00m Transformer2DSelfAttnCrossAttnCrossFrameAttnModel\n\u001b[1;32m     34\u001b[0m \u001b[38;5;28;01mfrom\u001b[39;00m \u001b[38;5;21;01m.\u001b[39;00m\u001b[38;5;21;01mcustom_attention\u001b[39;00m \u001b[38;5;28;01mimport\u001b[39;00m BasicTransformerWithCrossFrameAttentionBlock\n\u001b[1;32m     36\u001b[0m \u001b[38;5;28;01mfrom\u001b[39;00m \u001b[38;5;21;01m.\u001b[39;00m\u001b[38;5;21;01mprojection\u001b[39;00m\u001b[38;5;21;01m.\u001b[39;00m\u001b[38;5;21;01mlayer\u001b[39;00m \u001b[38;5;28;01mimport\u001b[39;00m UnprojReprojLayer\n",
      "File \u001b[0;32m~/autodl-tmp/ViewDiff/viewdiff/model/custom_transformer_2d.py:27\u001b[0m\n\u001b[1;32m     24\u001b[0m \u001b[38;5;28;01mfrom\u001b[39;00m \u001b[38;5;21;01mdiffusers\u001b[39;00m\u001b[38;5;21;01m.\u001b[39;00m\u001b[38;5;21;01mmodels\u001b[39;00m\u001b[38;5;21;01m.\u001b[39;00m\u001b[38;5;21;01mmodeling_utils\u001b[39;00m \u001b[38;5;28;01mimport\u001b[39;00m ModelMixin\n\u001b[1;32m     25\u001b[0m \u001b[38;5;28;01mfrom\u001b[39;00m \u001b[38;5;21;01mdiffusers\u001b[39;00m\u001b[38;5;21;01m.\u001b[39;00m\u001b[38;5;21;01mmodels\u001b[39;00m\u001b[38;5;21;01m.\u001b[39;00m\u001b[38;5;21;01mtransformer_2d\u001b[39;00m \u001b[38;5;28;01mimport\u001b[39;00m Transformer2DModelOutput\n\u001b[0;32m---> 27\u001b[0m \u001b[38;5;28;01mfrom\u001b[39;00m \u001b[38;5;21;01m.\u001b[39;00m\u001b[38;5;21;01mcustom_attention\u001b[39;00m \u001b[38;5;28;01mimport\u001b[39;00m BasicTransformerWithCrossFrameAttentionBlock\n\u001b[1;32m     29\u001b[0m \u001b[38;5;28;01mfrom\u001b[39;00m \u001b[38;5;21;01m.\u001b[39;00m\u001b[38;5;21;01mprojection\u001b[39;00m\u001b[38;5;21;01m.\u001b[39;00m\u001b[38;5;21;01mlayer\u001b[39;00m \u001b[38;5;28;01mimport\u001b[39;00m UnprojReprojLayer\n\u001b[1;32m     32\u001b[0m \u001b[38;5;28;01mclass\u001b[39;00m \u001b[38;5;21;01mTransformer2DSelfAttnCrossAttnCrossFrameAttnModel\u001b[39;00m(ModelMixin, ConfigMixin):\n",
      "File \u001b[0;32m~/autodl-tmp/ViewDiff/viewdiff/model/custom_attention.py:36\u001b[0m\n\u001b[1;32m     25\u001b[0m \u001b[38;5;28;01mfrom\u001b[39;00m \u001b[38;5;21;01mdiffusers\u001b[39;00m\u001b[38;5;21;01m.\u001b[39;00m\u001b[38;5;21;01mmodels\u001b[39;00m\u001b[38;5;21;01m.\u001b[39;00m\u001b[38;5;21;01mattention\u001b[39;00m \u001b[38;5;28;01mimport\u001b[39;00m (\n\u001b[1;32m     26\u001b[0m     BasicTransformerBlock,\n\u001b[1;32m     27\u001b[0m     AdaLayerNorm,\n\u001b[0;32m   (...)\u001b[0m\n\u001b[1;32m     31\u001b[0m     ApproximateGELU,\n\u001b[1;32m     32\u001b[0m )\n\u001b[1;32m     34\u001b[0m \u001b[38;5;28;01mfrom\u001b[39;00m \u001b[38;5;21;01m.\u001b[39;00m\u001b[38;5;21;01mcustom_attention_processor\u001b[39;00m \u001b[38;5;28;01mimport\u001b[39;00m CrossFrameAttentionProcessor2_0, expand_batch, collapse_batch\n\u001b[0;32m---> 36\u001b[0m \u001b[38;5;28;01mfrom\u001b[39;00m \u001b[38;5;21;01m.\u001b[39;00m\u001b[38;5;21;01mprojection\u001b[39;00m\u001b[38;5;21;01m.\u001b[39;00m\u001b[38;5;21;01mlayer\u001b[39;00m \u001b[38;5;28;01mimport\u001b[39;00m UnprojReprojLayer\n\u001b[1;32m     38\u001b[0m \u001b[38;5;28;01mfrom\u001b[39;00m \u001b[38;5;21;01mdiffusers\u001b[39;00m\u001b[38;5;21;01m.\u001b[39;00m\u001b[38;5;21;01mmodels\u001b[39;00m\u001b[38;5;21;01m.\u001b[39;00m\u001b[38;5;21;01mcontrolnet\u001b[39;00m \u001b[38;5;28;01mimport\u001b[39;00m zero_module\n\u001b[1;32m     41\u001b[0m \u001b[38;5;129m@maybe_allow_in_graph\u001b[39m\n\u001b[1;32m     42\u001b[0m \u001b[38;5;28;01mclass\u001b[39;00m \u001b[38;5;21;01mBasicTransformerWithCrossFrameAttentionBlock\u001b[39;00m(BasicTransformerBlock):\n",
      "File \u001b[0;32m~/autodl-tmp/ViewDiff/viewdiff/model/projection/layer.py:7\u001b[0m\n\u001b[1;32m      4\u001b[0m \u001b[38;5;28;01mimport\u001b[39;00m \u001b[38;5;21;01mtorch\u001b[39;00m\n\u001b[1;32m      5\u001b[0m \u001b[38;5;28;01mfrom\u001b[39;00m \u001b[38;5;21;01mtorch\u001b[39;00m \u001b[38;5;28;01mimport\u001b[39;00m nn\n\u001b[0;32m----> 7\u001b[0m \u001b[38;5;28;01mfrom\u001b[39;00m \u001b[38;5;21;01m.\u001b[39;00m\u001b[38;5;21;01m.\u001b[39;00m\u001b[38;5;21;01m.\u001b[39;00m\u001b[38;5;21;01mdata\u001b[39;00m\u001b[38;5;21;01m.\u001b[39;00m\u001b[38;5;21;01mco3d\u001b[39;00m\u001b[38;5;21;01m.\u001b[39;00m\u001b[38;5;21;01mutil\u001b[39;00m \u001b[38;5;28;01mimport\u001b[39;00m scale_intrinsics\n\u001b[1;32m     10\u001b[0m \u001b[38;5;28;01mfrom\u001b[39;00m \u001b[38;5;21;01mdiffusers\u001b[39;00m\u001b[38;5;21;01m.\u001b[39;00m\u001b[38;5;21;01mmodels\u001b[39;00m\u001b[38;5;21;01m.\u001b[39;00m\u001b[38;5;21;01munet_2d\u001b[39;00m \u001b[38;5;28;01mimport\u001b[39;00m UNet2DModel\n\u001b[1;32m     12\u001b[0m \u001b[38;5;28;01mfrom\u001b[39;00m \u001b[38;5;21;01m.\u001b[39;00m\u001b[38;5;21;01mutil\u001b[39;00m \u001b[38;5;28;01mimport\u001b[39;00m get_pixel_grids\n",
      "\u001b[0;31mImportError\u001b[0m: cannot import name 'scale_intrinsics' from 'viewdiff.data.co3d.util' (/root/autodl-tmp/ViewDiff/viewdiff/data/co3d/util.py)"
     ]
    }
   ],
   "source": [
    "import sys\n",
    "sys.path.append(\"/root/autodl-tmp/ViewDiff/\")\n",
    "from viewdiff.model.custom_unet_2d_condition import UNet2DConditionCrossFrameInExistingAttnModel"
   ]
  },
  {
   "cell_type": "code",
   "execution_count": null,
   "metadata": {},
   "outputs": [],
   "source": []
  }
 ],
 "metadata": {
  "kernelspec": {
   "display_name": "base",
   "language": "python",
   "name": "python3"
  },
  "language_info": {
   "codemirror_mode": {
    "name": "ipython",
    "version": 3
   },
   "file_extension": ".py",
   "mimetype": "text/x-python",
   "name": "python",
   "nbconvert_exporter": "python",
   "pygments_lexer": "ipython3",
   "version": "3.8.10"
  }
 },
 "nbformat": 4,
 "nbformat_minor": 2
}
